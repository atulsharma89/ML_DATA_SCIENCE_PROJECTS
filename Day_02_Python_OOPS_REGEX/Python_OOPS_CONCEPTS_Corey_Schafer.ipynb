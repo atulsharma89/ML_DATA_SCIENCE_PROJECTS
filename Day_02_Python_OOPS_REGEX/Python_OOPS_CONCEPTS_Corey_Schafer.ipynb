{
 "cells": [
  {
   "cell_type": "markdown",
   "id": "5a27332a",
   "metadata": {},
   "source": [
    "# Python OOP Tutorial 1: Classes and Instances"
   ]
  },
  {
   "cell_type": "code",
   "execution_count": 2,
   "id": "e9956796",
   "metadata": {},
   "outputs": [],
   "source": [
    "#data and functions associated with a specific class they are called then attributes and methods\n",
    "# methods: function associated with a class\n",
    "#in employee class each specific employee will have a name and email address"
   ]
  },
  {
   "cell_type": "code",
   "execution_count": 4,
   "id": "fba56bb8",
   "metadata": {},
   "outputs": [],
   "source": [
    "#class with no attribute and method\n",
    "#class is blu print to create instances\n",
    "#each unique employee will be a instance of our employee class\n",
    "class Employee:\n",
    "    pass"
   ]
  },
  {
   "cell_type": "code",
   "execution_count": 5,
   "id": "307c9a03",
   "metadata": {},
   "outputs": [],
   "source": [
    "emp1= Employee()\n",
    "emp2= Employee()"
   ]
  },
  {
   "cell_type": "code",
   "execution_count": 7,
   "id": "b4d66c30",
   "metadata": {},
   "outputs": [
    {
     "name": "stdout",
     "output_type": "stream",
     "text": [
      "<__main__.Employee object at 0x7ffe2f9c0610>\n",
      "<__main__.Employee object at 0x7ffe2f9c0970>\n"
     ]
    }
   ],
   "source": [
    "print(emp1)\n",
    "print(emp2)"
   ]
  },
  {
   "cell_type": "code",
   "execution_count": 8,
   "id": "d65a830b",
   "metadata": {},
   "outputs": [],
   "source": [
    "#instance valriable contains data that is unique to a given instance\n"
   ]
  },
  {
   "cell_type": "code",
   "execution_count": 9,
   "id": "73392041",
   "metadata": {},
   "outputs": [],
   "source": [
    "\n",
    "emp1.first = 'Atul'\n",
    "emp1.last='Sharma'\n",
    "emp1.email = 'atul@email.com'\n",
    "emp1.pay = 50000\n",
    "\n",
    "\n",
    "emp2.first = 'shak'\n",
    "emp2.last='ffffa'\n",
    "emp2.email = 'shak@email.com'\n",
    "emp2.pay = 230"
   ]
  },
  {
   "cell_type": "code",
   "execution_count": 10,
   "id": "e9b3ecec",
   "metadata": {},
   "outputs": [
    {
     "name": "stdout",
     "output_type": "stream",
     "text": [
      "atul@email.com\n",
      "shak@email.com\n"
     ]
    }
   ],
   "source": [
    "print(emp1.email)\n",
    "print(emp2.email)"
   ]
  },
  {
   "cell_type": "code",
   "execution_count": 11,
   "id": "d56edcae",
   "metadata": {},
   "outputs": [],
   "source": [
    "class Employee:\n",
    "    \n",
    "    def __init__(self, first, last, pay):\n",
    "        self.first=first\n",
    "        self.last=last\n",
    "        self.pay=pay\n",
    "        self.email = first + '.' + last + '@company.com'"
   ]
  },
  {
   "cell_type": "code",
   "execution_count": 14,
   "id": "de580ddb",
   "metadata": {},
   "outputs": [],
   "source": [
    "emp1= Employee('atulqqqqq','sharma',5000)\n",
    "emp2= Employee('test','user',6999)"
   ]
  },
  {
   "cell_type": "code",
   "execution_count": 16,
   "id": "921e7e14",
   "metadata": {},
   "outputs": [
    {
     "name": "stdout",
     "output_type": "stream",
     "text": [
      "atulqqqqq\n",
      "atulqqqqq.sharma@company.com\n"
     ]
    }
   ],
   "source": [
    "print(emp1.first)\n",
    "print(emp1.email)"
   ]
  },
  {
   "cell_type": "code",
   "execution_count": 17,
   "id": "4ec82d59",
   "metadata": {},
   "outputs": [
    {
     "name": "stdout",
     "output_type": "stream",
     "text": [
      "atulqqqqq sharma\n"
     ]
    }
   ],
   "source": [
    "print('{} {}'.format(emp1.first, emp1.last))"
   ]
  },
  {
   "cell_type": "code",
   "execution_count": 24,
   "id": "f11f6a3a",
   "metadata": {},
   "outputs": [],
   "source": [
    "class Employee:\n",
    "    \n",
    "    def __init__(self, first, last, pay):\n",
    "        self.first=first\n",
    "        self.last=last\n",
    "        self.pay=pay\n",
    "        self.email = first + '.' + last + '@company.com'\n",
    "        \n",
    "    def fullname(self):\n",
    "        return '{} {}'.format(self.first, self.last)\n",
    "        "
   ]
  },
  {
   "cell_type": "code",
   "execution_count": 25,
   "id": "244261f9",
   "metadata": {},
   "outputs": [],
   "source": [
    "emp1= Employee('atulqqqqq','sharma',5000)\n",
    "emp2= Employee('test','user',6999)"
   ]
  },
  {
   "cell_type": "code",
   "execution_count": 27,
   "id": "d4076e6f",
   "metadata": {},
   "outputs": [
    {
     "name": "stdout",
     "output_type": "stream",
     "text": [
      "atulqqqqq sharma\n"
     ]
    }
   ],
   "source": [
    "print(emp1.fullname())"
   ]
  },
  {
   "cell_type": "code",
   "execution_count": 28,
   "id": "bbfd3743",
   "metadata": {},
   "outputs": [
    {
     "name": "stdout",
     "output_type": "stream",
     "text": [
      "test user\n"
     ]
    }
   ],
   "source": [
    "print(emp2.fullname())"
   ]
  },
  {
   "cell_type": "code",
   "execution_count": 29,
   "id": "7a6b1c5a",
   "metadata": {},
   "outputs": [
    {
     "name": "stdout",
     "output_type": "stream",
     "text": [
      "atulqqqqq sharma\n"
     ]
    }
   ],
   "source": [
    "print(Employee.fullname(emp1))"
   ]
  },
  {
   "cell_type": "markdown",
   "id": "0fcfec2e",
   "metadata": {},
   "source": [
    "***A class is a blueprint which you use to create objects. An object is an instance of a class - it's a concrete 'thing' that you made using a specific class. So, 'object' and 'instance' are the same thing, but the word 'instance' indicates the relationship of an object to its class.***"
   ]
  },
  {
   "cell_type": "markdown",
   "id": "6f8d94e8",
   "metadata": {},
   "source": [
    "# Python OOP Tutorial 2: Class Variables"
   ]
  },
  {
   "cell_type": "code",
   "execution_count": 33,
   "id": "04ddfa92",
   "metadata": {},
   "outputs": [],
   "source": [
    "class Employee:\n",
    "    \n",
    "    def __init__(self, first, last, pay):\n",
    "        self.first=first\n",
    "        self.last=last\n",
    "        self.pay=pay\n",
    "        self.email = first + '.' + last + '@company.com'\n",
    "        \n",
    "    def fullname(self):\n",
    "        return '{} {}'.format(self.first, self.last)\n",
    "    \n",
    "    def apply_raise(self):\n",
    "        self.pay = int(self.pay*1.04)\n",
    "\n"
   ]
  },
  {
   "cell_type": "code",
   "execution_count": 34,
   "id": "5ee6a0f5",
   "metadata": {},
   "outputs": [],
   "source": [
    "#class variables are variables that can be sahred acorss all the isnatnces of a class\n",
    "#instance variable are uniue to instance\n",
    "\n",
    "\n",
    "\n",
    "emp1= Employee('atulqqqqq','sharma',5000)\n",
    "emp2= Employee('test','user',6999)"
   ]
  },
  {
   "cell_type": "code",
   "execution_count": 35,
   "id": "cc272295",
   "metadata": {},
   "outputs": [
    {
     "name": "stdout",
     "output_type": "stream",
     "text": [
      "5000\n"
     ]
    }
   ],
   "source": [
    "print(emp1.pay)"
   ]
  },
  {
   "cell_type": "code",
   "execution_count": 37,
   "id": "599439ab",
   "metadata": {},
   "outputs": [],
   "source": [
    "emp1.apply_raise()"
   ]
  },
  {
   "cell_type": "code",
   "execution_count": 38,
   "id": "0336223e",
   "metadata": {},
   "outputs": [
    {
     "name": "stdout",
     "output_type": "stream",
     "text": [
      "5408\n"
     ]
    }
   ],
   "source": [
    "print(emp1.pay)"
   ]
  },
  {
   "cell_type": "code",
   "execution_count": 39,
   "id": "7a3b7930",
   "metadata": {},
   "outputs": [],
   "source": [
    "class Employee:\n",
    "    \n",
    "    raise_amount = 1.04\n",
    "    \n",
    "    def __init__(self, first, last, pay):\n",
    "        self.first=first\n",
    "        self.last=last\n",
    "        self.pay=pay\n",
    "        self.email = first + '.' + last + '@company.com'\n",
    "        \n",
    "    def fullname(self):\n",
    "        return '{} {}'.format(self.first, self.last)\n",
    "    \n",
    "    def apply_raise(self):\n",
    "        self.pay = int(self.pay*raise_amount)\n",
    "\n"
   ]
  },
  {
   "cell_type": "code",
   "execution_count": 41,
   "id": "148e7bd3",
   "metadata": {},
   "outputs": [],
   "source": [
    "emp1= Employee('atulqqqqq','sharma',5000)\n",
    "emp2= Employee('test','user',6999)"
   ]
  },
  {
   "cell_type": "code",
   "execution_count": 42,
   "id": "7d2e8fd5",
   "metadata": {},
   "outputs": [
    {
     "name": "stdout",
     "output_type": "stream",
     "text": [
      "5000\n"
     ]
    },
    {
     "ename": "NameError",
     "evalue": "name 'raise_amount' is not defined",
     "output_type": "error",
     "traceback": [
      "\u001b[0;31m---------------------------------------------------------------------------\u001b[0m",
      "\u001b[0;31mNameError\u001b[0m                                 Traceback (most recent call last)",
      "Input \u001b[0;32mIn [42]\u001b[0m, in \u001b[0;36m<cell line: 2>\u001b[0;34m()\u001b[0m\n\u001b[1;32m      1\u001b[0m \u001b[38;5;28mprint\u001b[39m(emp1\u001b[38;5;241m.\u001b[39mpay)\n\u001b[0;32m----> 2\u001b[0m \u001b[43memp1\u001b[49m\u001b[38;5;241;43m.\u001b[39;49m\u001b[43mapply_raise\u001b[49m\u001b[43m(\u001b[49m\u001b[43m)\u001b[49m\n\u001b[1;32m      3\u001b[0m \u001b[38;5;28mprint\u001b[39m(emp1\u001b[38;5;241m.\u001b[39mpay)\n",
      "Input \u001b[0;32mIn [39]\u001b[0m, in \u001b[0;36mEmployee.apply_raise\u001b[0;34m(self)\u001b[0m\n\u001b[1;32m     14\u001b[0m \u001b[38;5;28;01mdef\u001b[39;00m \u001b[38;5;21mapply_raise\u001b[39m(\u001b[38;5;28mself\u001b[39m):\n\u001b[0;32m---> 15\u001b[0m     \u001b[38;5;28mself\u001b[39m\u001b[38;5;241m.\u001b[39mpay \u001b[38;5;241m=\u001b[39m \u001b[38;5;28mint\u001b[39m(\u001b[38;5;28mself\u001b[39m\u001b[38;5;241m.\u001b[39mpay\u001b[38;5;241m*\u001b[39m\u001b[43mraise_amount\u001b[49m)\n",
      "\u001b[0;31mNameError\u001b[0m: name 'raise_amount' is not defined"
     ]
    }
   ],
   "source": [
    "print(emp1.pay)\n",
    "emp1.apply_raise()\n",
    "print(emp1.pay)"
   ]
  },
  {
   "cell_type": "code",
   "execution_count": 50,
   "id": "5d90e168",
   "metadata": {},
   "outputs": [],
   "source": [
    "#raise amount needs to be accessed through class itself or through instance of class\n",
    "\n",
    "class Employee:\n",
    "    \n",
    "    raise_amount = 1.04\n",
    "    \n",
    "    def __init__(self, first, last, pay):\n",
    "        self.first=first\n",
    "        self.last=last\n",
    "        self.pay=pay\n",
    "        self.email = first + '.' + last + '@company.com'\n",
    "        \n",
    "    def fullname(self):\n",
    "        return '{} {}'.format(self.first, self.last)\n",
    "    \n",
    "    def apply_raise(self):\n",
    "        #self.pay = int(self.pay*Employee.raise_amount)\n",
    "        self.pay = int(self.pay*self.raise_amount)\n",
    "\n"
   ]
  },
  {
   "cell_type": "code",
   "execution_count": 51,
   "id": "01b41ef6",
   "metadata": {},
   "outputs": [
    {
     "name": "stdout",
     "output_type": "stream",
     "text": [
      "5000\n",
      "5200\n"
     ]
    }
   ],
   "source": [
    "emp1= Employee('atulqqqqq','sharma',5000)\n",
    "emp2= Employee('test','user',6999)\n",
    "\n",
    "print(emp1.pay)\n",
    "emp1.apply_raise()\n",
    "print(emp1.pay)"
   ]
  },
  {
   "cell_type": "code",
   "execution_count": 45,
   "id": "a6913296",
   "metadata": {},
   "outputs": [
    {
     "name": "stdout",
     "output_type": "stream",
     "text": [
      "1.04\n",
      "1.04\n",
      "1.04\n"
     ]
    }
   ],
   "source": [
    "print(Employee.raise_amount)\n",
    "print(emp1.raise_amount)\n",
    "print(emp2.raise_amount)"
   ]
  },
  {
   "cell_type": "code",
   "execution_count": 46,
   "id": "b3f35a6a",
   "metadata": {},
   "outputs": [
    {
     "name": "stdout",
     "output_type": "stream",
     "text": [
      "{'first': 'atulqqqqq', 'last': 'sharma', 'pay': 5200, 'email': 'atulqqqqq.sharma@company.com'}\n"
     ]
    }
   ],
   "source": [
    "#name space of object\n",
    "print(emp1.__dict__)"
   ]
  },
  {
   "cell_type": "code",
   "execution_count": 47,
   "id": "d3b19a5f",
   "metadata": {},
   "outputs": [
    {
     "name": "stdout",
     "output_type": "stream",
     "text": [
      "{'__module__': '__main__', 'raise_amount': 1.04, '__init__': <function Employee.__init__ at 0x7ffe306fc9d0>, 'fullname': <function Employee.fullname at 0x7ffe306fc550>, 'apply_raise': <function Employee.apply_raise at 0x7ffe306fcd30>, '__dict__': <attribute '__dict__' of 'Employee' objects>, '__weakref__': <attribute '__weakref__' of 'Employee' objects>, '__doc__': None}\n"
     ]
    }
   ],
   "source": [
    "#name space of class\n",
    "print(Employee.__dict__)"
   ]
  },
  {
   "cell_type": "code",
   "execution_count": 48,
   "id": "f60d2838",
   "metadata": {},
   "outputs": [
    {
     "name": "stdout",
     "output_type": "stream",
     "text": [
      "1.05\n",
      "1.05\n",
      "1.05\n"
     ]
    }
   ],
   "source": [
    "Employee.raise_amount = 1.05\n",
    "print(Employee.raise_amount)\n",
    "print(emp1.raise_amount)\n",
    "print(emp2.raise_amount)"
   ]
  },
  {
   "cell_type": "markdown",
   "id": "5b0d1450",
   "metadata": {},
   "source": [
    "**Re-excuting class definition**"
   ]
  },
  {
   "cell_type": "code",
   "execution_count": 52,
   "id": "46341302",
   "metadata": {},
   "outputs": [
    {
     "name": "stdout",
     "output_type": "stream",
     "text": [
      "1.04\n",
      "1.05\n",
      "1.04\n"
     ]
    }
   ],
   "source": [
    "emp1.raise_amount = 1.05\n",
    "print(Employee.raise_amount)\n",
    "print(emp1.raise_amount)\n",
    "print(emp2.raise_amount)"
   ]
  },
  {
   "cell_type": "code",
   "execution_count": 54,
   "id": "c5e00ab6",
   "metadata": {},
   "outputs": [
    {
     "name": "stdout",
     "output_type": "stream",
     "text": [
      "{'first': 'atulqqqqq', 'last': 'sharma', 'pay': 5200, 'email': 'atulqqqqq.sharma@company.com', 'raise_amount': 1.05}\n"
     ]
    }
   ],
   "source": [
    "#name space of class\n",
    "print(emp1.__dict__)"
   ]
  },
  {
   "cell_type": "code",
   "execution_count": 55,
   "id": "fb14a54f",
   "metadata": {},
   "outputs": [
    {
     "name": "stdout",
     "output_type": "stream",
     "text": [
      "2\n"
     ]
    }
   ],
   "source": [
    "class Employee:\n",
    "    \n",
    "    raise_amount = 1.04\n",
    "    num_of_employees = 0\n",
    "    \n",
    "    def __init__(self, first, last, pay):\n",
    "        self.first=first\n",
    "        self.last=last\n",
    "        self.pay=pay\n",
    "        self.email = first + '.' + last + '@company.com'\n",
    "        Employee.num_of_employees +=1\n",
    "        \n",
    "    def fullname(self):\n",
    "        return '{} {}'.format(self.first, self.last)\n",
    "    \n",
    "    def apply_raise(self):\n",
    "        #self.pay = int(self.pay*Employee.raise_amount)\n",
    "        self.pay = int(self.pay*self.raise_amount)\n",
    "        \n",
    "\n",
    "\n",
    "emp1= Employee('atulqqqqq','sharma',5000)\n",
    "emp2= Employee('test','user',6999)\n",
    "\n",
    "print(Employee.num_of_employees)\n",
    "\n",
    "\n"
   ]
  },
  {
   "cell_type": "markdown",
   "id": "8f1f73ba",
   "metadata": {},
   "source": [
    "# Python OOP Tutorial 3: classmethods and staticmethods"
   ]
  },
  {
   "cell_type": "code",
   "execution_count": 56,
   "id": "34fe5f34",
   "metadata": {},
   "outputs": [
    {
     "name": "stdout",
     "output_type": "stream",
     "text": [
      "2\n",
      "1.04\n",
      "1.04\n",
      "1.04\n"
     ]
    }
   ],
   "source": [
    "#regular methods in class automatically takes instance as a first argument (by convention we call it self)\n",
    "\n",
    "class Employee:\n",
    "    \n",
    "    raise_amount = 1.04\n",
    "    num_of_employees = 0\n",
    "    \n",
    "    def __init__(self, first, last, pay):\n",
    "        self.first=first\n",
    "        self.last=last\n",
    "        self.pay=pay\n",
    "        self.email = first + '.' + last + '@company.com'\n",
    "        Employee.num_of_employees +=1\n",
    "        \n",
    "    def fullname(self):\n",
    "        return '{} {}'.format(self.first, self.last)\n",
    "    \n",
    "    def apply_raise(self):\n",
    "        #self.pay = int(self.pay*Employee.raise_amount)\n",
    "        self.pay = int(self.pay*self.raise_amount)\n",
    "    \n",
    "    @classmethod\n",
    "    \n",
    "    def set_raise_amount(cls, amount):\n",
    "        cls.raise_amount = amount\n",
    "        \n",
    "\n",
    "\n",
    "emp1= Employee('atulqqqqq','sharma',5000)\n",
    "emp2= Employee('test','user',6999)\n",
    "\n",
    "print(Employee.num_of_employees)\n",
    "print(Employee.raise_amount)\n",
    "print(emp1.raise_amount)\n",
    "print(emp2.raise_amount)"
   ]
  },
  {
   "cell_type": "code",
   "execution_count": 57,
   "id": "b48bfeed",
   "metadata": {},
   "outputs": [
    {
     "name": "stdout",
     "output_type": "stream",
     "text": [
      "2\n",
      "1.05\n",
      "1.05\n",
      "1.05\n"
     ]
    }
   ],
   "source": [
    "#regular methods in class automatically takes instance as a first argument (by convention we call it self)\n",
    "\n",
    "class Employee:\n",
    "    \n",
    "    raise_amount = 1.04\n",
    "    num_of_employees = 0\n",
    "    \n",
    "    def __init__(self, first, last, pay):\n",
    "        self.first=first\n",
    "        self.last=last\n",
    "        self.pay=pay\n",
    "        self.email = first + '.' + last + '@company.com'\n",
    "        Employee.num_of_employees +=1\n",
    "        \n",
    "    def fullname(self):\n",
    "        return '{} {}'.format(self.first, self.last)\n",
    "    \n",
    "    def apply_raise(self):\n",
    "        #self.pay = int(self.pay*Employee.raise_amount)\n",
    "        self.pay = int(self.pay*self.raise_amount)\n",
    "    \n",
    "    @classmethod\n",
    "    \n",
    "    def set_raise_amount(cls, amount):\n",
    "        cls.raise_amount = amount\n",
    "        \n",
    "\n",
    "\n",
    "emp1= Employee('atulqqqqq','sharma',5000)\n",
    "emp2= Employee('test','user',6999)\n",
    "\n",
    "Employee.set_raise_amount(1.05)\n",
    "print(Employee.num_of_employees)\n",
    "print(Employee.raise_amount)\n",
    "print(emp1.raise_amount)\n",
    "print(emp2.raise_amount)"
   ]
  },
  {
   "cell_type": "code",
   "execution_count": 58,
   "id": "b90eeee5",
   "metadata": {},
   "outputs": [
    {
     "name": "stdout",
     "output_type": "stream",
     "text": [
      "2\n",
      "1.05\n",
      "1.05\n",
      "1.05\n"
     ]
    }
   ],
   "source": [
    "#regular methods in class automatically takes instance as a first argument (by convention we call it self)\n",
    "\n",
    "class Employee:\n",
    "    \n",
    "    raise_amount = 1.04\n",
    "    num_of_employees = 0\n",
    "    \n",
    "    def __init__(self, first, last, pay):\n",
    "        self.first=first\n",
    "        self.last=last\n",
    "        self.pay=pay\n",
    "        self.email = first + '.' + last + '@company.com'\n",
    "        Employee.num_of_employees +=1\n",
    "        \n",
    "    def fullname(self):\n",
    "        return '{} {}'.format(self.first, self.last)\n",
    "    \n",
    "    def apply_raise(self):\n",
    "        #self.pay = int(self.pay*Employee.raise_amount)\n",
    "        self.pay = int(self.pay*self.raise_amount)\n",
    "    \n",
    "    @classmethod\n",
    "    \n",
    "    def set_raise_amount(cls, amount):\n",
    "        cls.raise_amount = amount\n",
    "        \n",
    "\n",
    "\n",
    "emp1= Employee('atulqqqqq','sharma',5000)\n",
    "emp2= Employee('test','user',6999)\n",
    "\n",
    "emp1.set_raise_amount(1.05)\n",
    "print(Employee.num_of_employees)\n",
    "print(Employee.raise_amount)\n",
    "print(emp1.raise_amount)\n",
    "print(emp2.raise_amount)"
   ]
  },
  {
   "cell_type": "code",
   "execution_count": 60,
   "id": "916e9d22",
   "metadata": {},
   "outputs": [
    {
     "name": "stdout",
     "output_type": "stream",
     "text": [
      "8900\n",
      "Atul.Sharma@company.com\n"
     ]
    }
   ],
   "source": [
    "#class methods as alternative constructors\n",
    "\n",
    "# use these class methods for creating objects in multiple ways\n",
    "\n",
    "class Employee:\n",
    "    \n",
    "    raise_amount = 1.04\n",
    "    num_of_employees = 0\n",
    "    \n",
    "    def __init__(self, first, last, pay):\n",
    "        self.first=first\n",
    "        self.last=last\n",
    "        self.pay=pay\n",
    "        self.email = first + '.' + last + '@company.com'\n",
    "        Employee.num_of_employees +=1\n",
    "        \n",
    "    def fullname(self):\n",
    "        return '{} {}'.format(self.first, self.last)\n",
    "    \n",
    "    def apply_raise(self):\n",
    "        #self.pay = int(self.pay*Employee.raise_amount)\n",
    "        self.pay = int(self.pay*self.raise_amount)\n",
    "    \n",
    "    @classmethod\n",
    "    \n",
    "    def set_raise_amount(cls, amount):\n",
    "        cls.raise_amount = amount\n",
    "        \n",
    "\n",
    "\n",
    "emp1= Employee('atulqqqqq','sharma',5000)\n",
    "emp2= Employee('test','user',6999)\n",
    "\n",
    "\n",
    "emp_str_1 = 'Atul-Sharma-8900'\n",
    "emp_str_2 = 'Nidhi-Sharma-6000'\n",
    "emp_str_3 = 'Kailash-Sharma-15000'\n",
    "\n",
    "\n",
    "first,last,pay = emp_str_1.split('-')\n",
    "\n",
    "new_emp_1=Employee(first, last, pay)\n",
    "\n",
    "print(new_emp_1.pay)\n",
    "print(new_emp_1.email)"
   ]
  },
  {
   "cell_type": "code",
   "execution_count": 63,
   "id": "66322a48",
   "metadata": {},
   "outputs": [
    {
     "name": "stdout",
     "output_type": "stream",
     "text": [
      "8900\n",
      "Atul.Sharma@company.com\n"
     ]
    }
   ],
   "source": [
    "#class methods as alternative constructors\n",
    "\n",
    "# use these class methods for creating objects in multiple ways\n",
    "\n",
    "class Employee:\n",
    "    \n",
    "    raise_amount = 1.04\n",
    "    num_of_employees = 0\n",
    "    \n",
    "    def __init__(self, first, last, pay):\n",
    "        self.first=first\n",
    "        self.last=last\n",
    "        self.pay=pay\n",
    "        self.email = first + '.' + last + '@company.com'\n",
    "        Employee.num_of_employees +=1\n",
    "        \n",
    "    def fullname(self):\n",
    "        return '{} {}'.format(self.first, self.last)\n",
    "    \n",
    "    def apply_raise(self):\n",
    "        #self.pay = int(self.pay*Employee.raise_amount)\n",
    "        self.pay = int(self.pay*self.raise_amount)\n",
    "    \n",
    "    @classmethod\n",
    "    \n",
    "    def set_raise_amount(cls, amount):\n",
    "        cls.raise_amount = amount\n",
    "        \n",
    "    @classmethod\n",
    "    \n",
    "    def from_string(cls, emp_str):\n",
    "        first,last,pay = emp_str.split('-')\n",
    "        return cls(first, last, pay)\n",
    "        \n",
    "        \n",
    "\n",
    "\n",
    "emp1= Employee('atulqqqqq','sharma',5000)\n",
    "emp2= Employee('test','user',6999)\n",
    "\n",
    "\n",
    "emp_str_1 = 'Atul-Sharma-8900'\n",
    "emp_str_2 = 'Nidhi-Sharma-6000'\n",
    "emp_str_3 = 'Kailash-Sharma-15000'\n",
    "\n",
    "\n",
    "#first,last,pay = emp_str_1.split('-')\n",
    "\n",
    "new_emp_1=Employee.from_string(emp_str_1)\n",
    "\n",
    "print(new_emp_1.pay)\n",
    "print(new_emp_1.email)"
   ]
  },
  {
   "cell_type": "markdown",
   "id": "bd65d27b",
   "metadata": {},
   "source": [
    "**static method**"
   ]
  },
  {
   "cell_type": "code",
   "execution_count": 64,
   "id": "fc209a6f",
   "metadata": {},
   "outputs": [
    {
     "name": "stdout",
     "output_type": "stream",
     "text": [
      "True\n"
     ]
    }
   ],
   "source": [
    "#class methods as alternative constructors\n",
    "\n",
    "# use these class methods for creating objects in multiple ways\n",
    "\n",
    "class Employee:\n",
    "    \n",
    "    raise_amount = 1.04\n",
    "    num_of_employees = 0\n",
    "    \n",
    "    def __init__(self, first, last, pay):\n",
    "        self.first=first\n",
    "        self.last=last\n",
    "        self.pay=pay\n",
    "        self.email = first + '.' + last + '@company.com'\n",
    "        Employee.num_of_employees +=1\n",
    "        \n",
    "    def fullname(self):\n",
    "        return '{} {}'.format(self.first, self.last)\n",
    "    \n",
    "    def apply_raise(self):\n",
    "        #self.pay = int(self.pay*Employee.raise_amount)\n",
    "        self.pay = int(self.pay*self.raise_amount)\n",
    "    \n",
    "    @classmethod\n",
    "    \n",
    "    def set_raise_amount(cls, amount):\n",
    "        cls.raise_amount = amount\n",
    "        \n",
    "    @classmethod\n",
    "    \n",
    "    def from_string(cls, emp_str):\n",
    "        first,last,pay = emp_str.split('-')\n",
    "        return cls(first, last, pay)\n",
    "    \n",
    "    @staticmethod\n",
    "    \n",
    "    def is_workday(day):\n",
    "        if day.weekday() == 5 or day.weekday() == 6:\n",
    "            return False\n",
    "        return True\n",
    "        \n",
    "        \n",
    "\n",
    "\n",
    "emp1= Employee('atulqqqqq','sharma',5000)\n",
    "emp2= Employee('test','user',6999)\n",
    "\n",
    "\n",
    "import datetime\n",
    "\n",
    "my_date = datetime.date(2016, 7, 11)\n",
    "\n",
    "print(Employee.is_workday(my_date))\n",
    "\n",
    "#static method dont operate on class or instance of class"
   ]
  },
  {
   "cell_type": "markdown",
   "id": "c7cf9051",
   "metadata": {},
   "source": [
    "# Python OOP Tutorial 4: Inheritance - Creating Subclasses"
   ]
  },
  {
   "cell_type": "code",
   "execution_count": 68,
   "id": "cdee5f81",
   "metadata": {},
   "outputs": [
    {
     "name": "stdout",
     "output_type": "stream",
     "text": [
      "Help on class Developer in module __main__:\n",
      "\n",
      "class Developer(Employee)\n",
      " |  Developer(first, last, pay)\n",
      " |  \n",
      " |  Method resolution order:\n",
      " |      Developer\n",
      " |      Employee\n",
      " |      builtins.object\n",
      " |  \n",
      " |  Methods inherited from Employee:\n",
      " |  \n",
      " |  __init__(self, first, last, pay)\n",
      " |      Initialize self.  See help(type(self)) for accurate signature.\n",
      " |  \n",
      " |  apply_raise(self)\n",
      " |  \n",
      " |  fullname(self)\n",
      " |  \n",
      " |  ----------------------------------------------------------------------\n",
      " |  Class methods inherited from Employee:\n",
      " |  \n",
      " |  from_string(emp_str) from builtins.type\n",
      " |  \n",
      " |  set_raise_amount(amount) from builtins.type\n",
      " |  \n",
      " |  ----------------------------------------------------------------------\n",
      " |  Static methods inherited from Employee:\n",
      " |  \n",
      " |  is_workday(day)\n",
      " |  \n",
      " |  ----------------------------------------------------------------------\n",
      " |  Data descriptors inherited from Employee:\n",
      " |  \n",
      " |  __dict__\n",
      " |      dictionary for instance variables (if defined)\n",
      " |  \n",
      " |  __weakref__\n",
      " |      list of weak references to the object (if defined)\n",
      " |  \n",
      " |  ----------------------------------------------------------------------\n",
      " |  Data and other attributes inherited from Employee:\n",
      " |  \n",
      " |  num_of_employees = 2\n",
      " |  \n",
      " |  raise_amount = 1.04\n",
      "\n",
      "None\n"
     ]
    }
   ],
   "source": [
    "class Employee:\n",
    "    \n",
    "    raise_amount = 1.04\n",
    "    num_of_employees = 0\n",
    "    \n",
    "    def __init__(self, first, last, pay):\n",
    "        self.first=first\n",
    "        self.last=last\n",
    "        self.pay=pay\n",
    "        self.email = first + '.' + last + '@company.com'\n",
    "        Employee.num_of_employees +=1\n",
    "        \n",
    "    def fullname(self):\n",
    "        return '{} {}'.format(self.first, self.last)\n",
    "    \n",
    "    def apply_raise(self):\n",
    "        #self.pay = int(self.pay*Employee.raise_amount)\n",
    "        self.pay = int(self.pay*self.raise_amount)\n",
    "    \n",
    "    @classmethod\n",
    "    \n",
    "    def set_raise_amount(cls, amount):\n",
    "        cls.raise_amount = amount\n",
    "        \n",
    "    @classmethod\n",
    "    \n",
    "    def from_string(cls, emp_str):\n",
    "        first,last,pay = emp_str.split('-')\n",
    "        return cls(first, last, pay)\n",
    "    \n",
    "    @staticmethod\n",
    "    \n",
    "    def is_workday(day):\n",
    "        if day.weekday() == 5 or day.weekday() == 6:\n",
    "            return False\n",
    "        return True\n",
    "\n",
    "    \n",
    "class Developer(Employee):\n",
    "    pass\n",
    "    \n",
    "\n",
    "dev1= Developer('atulqqqqq','sharma',5000)\n",
    "dev2= Developer('test','user',6999)\n",
    "\n",
    "\n",
    "#print(dev1.email)\n",
    "#print(dev2.email)\n",
    "\n",
    "print(help(Developer))"
   ]
  },
  {
   "cell_type": "code",
   "execution_count": 69,
   "id": "c37180c9",
   "metadata": {},
   "outputs": [
    {
     "name": "stdout",
     "output_type": "stream",
     "text": [
      "5000\n",
      "5200\n"
     ]
    }
   ],
   "source": [
    "class Employee:\n",
    "    \n",
    "    raise_amount = 1.04\n",
    "    num_of_employees = 0\n",
    "    \n",
    "    def __init__(self, first, last, pay):\n",
    "        self.first=first\n",
    "        self.last=last\n",
    "        self.pay=pay\n",
    "        self.email = first + '.' + last + '@company.com'\n",
    "        Employee.num_of_employees +=1\n",
    "        \n",
    "    def fullname(self):\n",
    "        return '{} {}'.format(self.first, self.last)\n",
    "    \n",
    "    def apply_raise(self):\n",
    "        #self.pay = int(self.pay*Employee.raise_amount)\n",
    "        self.pay = int(self.pay*self.raise_amount)\n",
    "    \n",
    "    @classmethod\n",
    "    \n",
    "    def set_raise_amount(cls, amount):\n",
    "        cls.raise_amount = amount\n",
    "        \n",
    "    @classmethod\n",
    "    \n",
    "    def from_string(cls, emp_str):\n",
    "        first,last,pay = emp_str.split('-')\n",
    "        return cls(first, last, pay)\n",
    "    \n",
    "    @staticmethod\n",
    "    \n",
    "    def is_workday(day):\n",
    "        if day.weekday() == 5 or day.weekday() == 6:\n",
    "            return False\n",
    "        return True\n",
    "\n",
    "    \n",
    "class Developer(Employee):\n",
    "    pass\n",
    "    \n",
    "\n",
    "dev1= Developer('atulqqqqq','sharma',5000)\n",
    "dev2= Developer('test','user',6999)\n",
    "\n",
    "\n",
    "#print(dev1.email)\n",
    "#print(dev2.email)\n",
    "\n",
    "print(dev1.pay)\n",
    "\n",
    "dev1.apply_raise()\n",
    "\n",
    "print(dev1.pay)\n",
    "\n",
    "#print(help(Developer))"
   ]
  },
  {
   "cell_type": "code",
   "execution_count": 70,
   "id": "3df89be8",
   "metadata": {},
   "outputs": [
    {
     "name": "stdout",
     "output_type": "stream",
     "text": [
      "5000\n",
      "5500\n"
     ]
    }
   ],
   "source": [
    "class Employee:\n",
    "    \n",
    "    raise_amount = 1.04\n",
    "    num_of_employees = 0\n",
    "    \n",
    "    def __init__(self, first, last, pay):\n",
    "        self.first=first\n",
    "        self.last=last\n",
    "        self.pay=pay\n",
    "        self.email = first + '.' + last + '@company.com'\n",
    "        Employee.num_of_employees +=1\n",
    "        \n",
    "    def fullname(self):\n",
    "        return '{} {}'.format(self.first, self.last)\n",
    "    \n",
    "    def apply_raise(self):\n",
    "        #self.pay = int(self.pay*Employee.raise_amount)\n",
    "        self.pay = int(self.pay*self.raise_amount)\n",
    "    \n",
    "    @classmethod\n",
    "    \n",
    "    def set_raise_amount(cls, amount):\n",
    "        cls.raise_amount = amount\n",
    "        \n",
    "    @classmethod\n",
    "    \n",
    "    def from_string(cls, emp_str):\n",
    "        first,last,pay = emp_str.split('-')\n",
    "        return cls(first, last, pay)\n",
    "    \n",
    "    @staticmethod\n",
    "    \n",
    "    def is_workday(day):\n",
    "        if day.weekday() == 5 or day.weekday() == 6:\n",
    "            return False\n",
    "        return True\n",
    "\n",
    "    \n",
    "class Developer(Employee):\n",
    "    raise_amount = 1.10\n",
    "    pass\n",
    "    \n",
    "\n",
    "dev1= Developer('atulqqqqq','sharma',5000)\n",
    "dev2= Developer('test','user',6999)\n",
    "\n",
    "\n",
    "#print(dev1.email)\n",
    "#print(dev2.email)\n",
    "\n",
    "print(dev1.pay)\n",
    "\n",
    "dev1.apply_raise()\n",
    "\n",
    "print(dev1.pay)\n",
    "\n",
    "#print(help(Developer))"
   ]
  },
  {
   "cell_type": "code",
   "execution_count": 71,
   "id": "0b9c7854",
   "metadata": {},
   "outputs": [
    {
     "name": "stdout",
     "output_type": "stream",
     "text": [
      "atulqqqqq.sharma@company.com\n",
      "Python\n"
     ]
    }
   ],
   "source": [
    "class Employee:\n",
    "    \n",
    "    raise_amount = 1.04\n",
    "    num_of_employees = 0\n",
    "    \n",
    "    def __init__(self, first, last, pay):\n",
    "        self.first=first\n",
    "        self.last=last\n",
    "        self.pay=pay\n",
    "        self.email = first + '.' + last + '@company.com'\n",
    "        Employee.num_of_employees +=1\n",
    "        \n",
    "    def fullname(self):\n",
    "        return '{} {}'.format(self.first, self.last)\n",
    "    \n",
    "    def apply_raise(self):\n",
    "        #self.pay = int(self.pay*Employee.raise_amount)\n",
    "        self.pay = int(self.pay*self.raise_amount)\n",
    "    \n",
    "    @classmethod\n",
    "    \n",
    "    def set_raise_amount(cls, amount):\n",
    "        cls.raise_amount = amount\n",
    "        \n",
    "    @classmethod\n",
    "    \n",
    "    def from_string(cls, emp_str):\n",
    "        first,last,pay = emp_str.split('-')\n",
    "        return cls(first, last, pay)\n",
    "    \n",
    "    @staticmethod\n",
    "    \n",
    "    def is_workday(day):\n",
    "        if day.weekday() == 5 or day.weekday() == 6:\n",
    "            return False\n",
    "        return True\n",
    "\n",
    "    \n",
    "class Developer(Employee):\n",
    "    raise_amount = 1.10\n",
    "    def __init__(self, first, last, pay, prog_lang):\n",
    "        super().__init__(first,last,pay)\n",
    "        #Employee.__init__(self,first,last,pay)\n",
    "        self.prog_lang=prog_lang\n",
    "    \n",
    "\n",
    "dev1= Developer('atulqqqqq','sharma',5000,'Python')\n",
    "dev2= Developer('test','user',6999,'Java')\n",
    "\n",
    "\n",
    "#print(dev1.email)\n",
    "#print(dev2.email)\n",
    "\n",
    "#print(dev1.pay)\n",
    "\n",
    "#dev1.apply_raise()\n",
    "\n",
    "#print(dev1.pay)\n",
    "\n",
    "#print(help(Developer))\n",
    "\n",
    "print(dev1.email)\n",
    "print(dev1.prog_lang)\n"
   ]
  },
  {
   "cell_type": "code",
   "execution_count": 81,
   "id": "97c0bb0c",
   "metadata": {},
   "outputs": [
    {
     "name": "stdout",
     "output_type": "stream",
     "text": [
      "Sue.Smith@company.com\n",
      "--> test user\n"
     ]
    }
   ],
   "source": [
    "class Employee:\n",
    "    \n",
    "    raise_amount = 1.04\n",
    "    num_of_employees = 0\n",
    "    \n",
    "    def __init__(self, first, last, pay):\n",
    "        self.first=first\n",
    "        self.last=last\n",
    "        self.pay=pay\n",
    "        self.email = first + '.' + last + '@company.com'\n",
    "        Employee.num_of_employees +=1\n",
    "        \n",
    "    def fullname(self):\n",
    "        return '{} {}'.format(self.first, self.last)\n",
    "    \n",
    "    def apply_raise(self):\n",
    "        #self.pay = int(self.pay*Employee.raise_amount)\n",
    "        self.pay = int(self.pay*self.raise_amount)\n",
    "    \n",
    "    @classmethod\n",
    "    \n",
    "    def set_raise_amount(cls, amount):\n",
    "        cls.raise_amount = amount\n",
    "        \n",
    "    @classmethod\n",
    "    \n",
    "    def from_string(cls, emp_str):\n",
    "        first,last,pay = emp_str.split('-')\n",
    "        return cls(first, last, pay)\n",
    "    \n",
    "    @staticmethod\n",
    "    \n",
    "    def is_workday(day):\n",
    "        if day.weekday() == 5 or day.weekday() == 6:\n",
    "            return False\n",
    "        return True\n",
    "\n",
    "    \n",
    "class Developer(Employee):\n",
    "    raise_amount = 1.10\n",
    "    def __init__(self, first, last, pay, prog_lang):\n",
    "        super().__init__(first,last,pay)\n",
    "        #Employee.__init__(self,first,last,pay)\n",
    "        self.prog_lang=prog_lang\n",
    "    \n",
    "\n",
    "class Manager(Employee):\n",
    "    def __init__(self, first, last, pay, employees=None):\n",
    "        super().__init__(first,last,pay)\n",
    "        #Employee.__init__(self,first,last,pay)\n",
    "        \n",
    "        if employees is None:\n",
    "            self.employees = []\n",
    "        \n",
    "        else:\n",
    "            self.employees = employees\n",
    "    \n",
    "    def add_emp(self,emp):\n",
    "        if emp not in self.employees:\n",
    "            self.employees.append(emp)\n",
    "            \n",
    "        \n",
    "            \n",
    "    \n",
    "    def remove_emp(self, emp):\n",
    "         if emp  in self.employees:\n",
    "            self.employees.remove(emp)\n",
    "            \n",
    "    def print_emps(self):\n",
    "         for emp in self.employees:\n",
    "                print('-->', emp.fullname())\n",
    "        \n",
    "        \n",
    "    \n",
    "    \n",
    "dev1= Developer('atulqqqqq','sharma',5000,'Python')\n",
    "dev2= Developer('test','user',6999,'Java')\n",
    "\n",
    "\n",
    "mgr_1 = Manager('Sue','Smith', 9000, [dev1])\n",
    "\n",
    "print(mgr_1.email)\n",
    "\n",
    "mgr_1.add_emp(dev2)\n",
    "mgr_1.remove_emp(dev1)\n",
    "\n",
    "mgr_1.print_emps()\n"
   ]
  },
  {
   "cell_type": "code",
   "execution_count": 84,
   "id": "ece67471",
   "metadata": {},
   "outputs": [
    {
     "name": "stdout",
     "output_type": "stream",
     "text": [
      "True\n"
     ]
    }
   ],
   "source": [
    "print(isinstance(mgr_1, Manager))"
   ]
  },
  {
   "cell_type": "code",
   "execution_count": 85,
   "id": "a92a25a9",
   "metadata": {},
   "outputs": [
    {
     "name": "stdout",
     "output_type": "stream",
     "text": [
      "True\n"
     ]
    }
   ],
   "source": [
    "print(isinstance(mgr_1, Employee))"
   ]
  },
  {
   "cell_type": "code",
   "execution_count": 86,
   "id": "1a9bccee",
   "metadata": {},
   "outputs": [
    {
     "name": "stdout",
     "output_type": "stream",
     "text": [
      "False\n"
     ]
    }
   ],
   "source": [
    "print(isinstance(mgr_1, Developer))"
   ]
  },
  {
   "cell_type": "code",
   "execution_count": 88,
   "id": "008cf2b5",
   "metadata": {},
   "outputs": [
    {
     "name": "stdout",
     "output_type": "stream",
     "text": [
      "True\n"
     ]
    }
   ],
   "source": [
    "print(issubclass(Manager, Employee))"
   ]
  },
  {
   "cell_type": "code",
   "execution_count": 89,
   "id": "b6755664",
   "metadata": {},
   "outputs": [
    {
     "name": "stdout",
     "output_type": "stream",
     "text": [
      "False\n"
     ]
    }
   ],
   "source": [
    "print(issubclass(Manager, Developer))"
   ]
  },
  {
   "cell_type": "markdown",
   "id": "d0a124ff",
   "metadata": {},
   "source": [
    "# Python OOP Tutorial 5: Special (Magic/Dunder) Methods"
   ]
  },
  {
   "cell_type": "code",
   "execution_count": 92,
   "id": "e3b7c307",
   "metadata": {},
   "outputs": [
    {
     "name": "stdout",
     "output_type": "stream",
     "text": [
      "Employee('atulqqqqq','sharma','5000')\n"
     ]
    }
   ],
   "source": [
    "class Employee:\n",
    "    \n",
    "    raise_amount = 1.04\n",
    "    num_of_employees = 0\n",
    "    \n",
    "    def __init__(self, first, last, pay):\n",
    "        self.first=first\n",
    "        self.last=last\n",
    "        self.pay=pay\n",
    "        self.email = first + '.' + last + '@company.com'\n",
    "        Employee.num_of_employees +=1\n",
    "        \n",
    "    def fullname(self):\n",
    "        return '{} {}'.format(self.first, self.last)\n",
    "    \n",
    "    def apply_raise(self):\n",
    "        #self.pay = int(self.pay*Employee.raise_amount)\n",
    "        self.pay = int(self.pay*self.raise_amount)\n",
    "    \n",
    "    def __repr__(self):\n",
    "        #pass\n",
    "        return \"Employee('{}','{}','{}')\".format(self.first, self.last,self.pay)\n",
    "    \n",
    "    #def __str__(self):\n",
    "    #    pass\n",
    "    \n",
    "    # repr method is meant to be unambiguous representation of object and used for debugging, loggin\n",
    "    #str method is meant to more readable representation object. used for display to users\n",
    "    \n",
    "\n",
    "emp_1= Employee('atulqqqqq','sharma',5000)\n",
    "emp_2= Employee('test','user',6999)\n",
    "\n",
    "\n",
    "print(emp_1)\n"
   ]
  },
  {
   "cell_type": "code",
   "execution_count": 95,
   "id": "32eb5bf0",
   "metadata": {},
   "outputs": [
    {
     "name": "stdout",
     "output_type": "stream",
     "text": [
      "atulqqqqq sharma - atulqqqqq.sharma@company.com\n"
     ]
    }
   ],
   "source": [
    "class Employee:\n",
    "    \n",
    "    raise_amount = 1.04\n",
    "    num_of_employees = 0\n",
    "    \n",
    "    def __init__(self, first, last, pay):\n",
    "        self.first=first\n",
    "        self.last=last\n",
    "        self.pay=pay\n",
    "        self.email = first + '.' + last + '@company.com'\n",
    "        Employee.num_of_employees +=1\n",
    "        \n",
    "    def fullname(self):\n",
    "        return '{} {}'.format(self.first, self.last)\n",
    "    \n",
    "    def apply_raise(self):\n",
    "        #self.pay = int(self.pay*Employee.raise_amount)\n",
    "        self.pay = int(self.pay*self.raise_amount)\n",
    "    \n",
    "    def __repr__(self):\n",
    "        #pass\n",
    "        return \"Employee('{}','{}','{}')\".format(self.first, self.last,self.pay)\n",
    "    \n",
    "    def __str__(self):\n",
    "        #pass\n",
    "        return '{} - {}'.format(self.fullname(), self.email)\n",
    "    \n",
    "    # repr method is meant to be unambiguous representation of object and used for debugging, loggin\n",
    "    #str method is meant to more readable representation object. used for display to users\n",
    "    \n",
    "\n",
    "emp_1= Employee('atulqqqqq','sharma',5000)\n",
    "emp_2= Employee('test','user',6999)\n",
    "\n",
    "\n",
    "print(emp_1)\n",
    "\n"
   ]
  },
  {
   "cell_type": "code",
   "execution_count": 96,
   "id": "00be9134",
   "metadata": {},
   "outputs": [
    {
     "name": "stdout",
     "output_type": "stream",
     "text": [
      "Employee('atulqqqqq','sharma','5000')\n",
      "atulqqqqq sharma - atulqqqqq.sharma@company.com\n"
     ]
    }
   ],
   "source": [
    "print(repr(emp_1))\n",
    "print(str(emp_1))"
   ]
  },
  {
   "cell_type": "code",
   "execution_count": 97,
   "id": "0980d981",
   "metadata": {},
   "outputs": [
    {
     "name": "stdout",
     "output_type": "stream",
     "text": [
      "Employee('atulqqqqq','sharma','5000')\n",
      "atulqqqqq sharma - atulqqqqq.sharma@company.com\n"
     ]
    }
   ],
   "source": [
    "print(emp_1.__repr__())\n",
    "print(emp_1.__str__())"
   ]
  },
  {
   "cell_type": "code",
   "execution_count": 98,
   "id": "bb0162a0",
   "metadata": {},
   "outputs": [
    {
     "name": "stdout",
     "output_type": "stream",
     "text": [
      "3\n"
     ]
    }
   ],
   "source": [
    "print(int.__add__(1,2))"
   ]
  },
  {
   "cell_type": "code",
   "execution_count": 99,
   "id": "6b2519d8",
   "metadata": {},
   "outputs": [
    {
     "name": "stdout",
     "output_type": "stream",
     "text": [
      "ab\n"
     ]
    }
   ],
   "source": [
    "print(str.__add__('a','b'))"
   ]
  },
  {
   "cell_type": "code",
   "execution_count": 101,
   "id": "812ec0b9",
   "metadata": {},
   "outputs": [
    {
     "name": "stdout",
     "output_type": "stream",
     "text": [
      "11999\n"
     ]
    }
   ],
   "source": [
    "class Employee:\n",
    "    \n",
    "    raise_amount = 1.04\n",
    "    num_of_employees = 0\n",
    "    \n",
    "    def __init__(self, first, last, pay):\n",
    "        self.first=first\n",
    "        self.last=last\n",
    "        self.pay=pay\n",
    "        self.email = first + '.' + last + '@company.com'\n",
    "        Employee.num_of_employees +=1\n",
    "        \n",
    "    def fullname(self):\n",
    "        return '{} {}'.format(self.first, self.last)\n",
    "    \n",
    "    def apply_raise(self):\n",
    "        #self.pay = int(self.pay*Employee.raise_amount)\n",
    "        self.pay = int(self.pay*self.raise_amount)\n",
    "    \n",
    "    def __repr__(self):\n",
    "        #pass\n",
    "        return \"Employee('{}','{}','{}')\".format(self.first, self.last,self.pay)\n",
    "    \n",
    "    def __str__(self):\n",
    "        #pass\n",
    "        return '{} - {}'.format(self.fullname(), self.email)\n",
    "    \n",
    "    def __add__(self,other):\n",
    "        return self.pay + other.pay\n",
    "    \n",
    "    # repr method is meant to be unambiguous representation of object and used for debugging, loggin\n",
    "    #str method is meant to more readable representation object. used for display to users\n",
    "    \n",
    "\n",
    "emp_1= Employee('atulqqqqq','sharma',5000)\n",
    "emp_2= Employee('test','user',6999)\n",
    "\n",
    "\n",
    "print(emp_1 + emp_2)\n",
    "\n",
    "\n"
   ]
  },
  {
   "cell_type": "code",
   "execution_count": 102,
   "id": "65678552",
   "metadata": {},
   "outputs": [
    {
     "name": "stdout",
     "output_type": "stream",
     "text": [
      "16\n"
     ]
    }
   ],
   "source": [
    "class Employee:\n",
    "    \n",
    "    raise_amount = 1.04\n",
    "    num_of_employees = 0\n",
    "    \n",
    "    def __init__(self, first, last, pay):\n",
    "        self.first=first\n",
    "        self.last=last\n",
    "        self.pay=pay\n",
    "        self.email = first + '.' + last + '@company.com'\n",
    "        Employee.num_of_employees +=1\n",
    "        \n",
    "    def fullname(self):\n",
    "        return '{} {}'.format(self.first, self.last)\n",
    "    \n",
    "    def apply_raise(self):\n",
    "        #self.pay = int(self.pay*Employee.raise_amount)\n",
    "        self.pay = int(self.pay*self.raise_amount)\n",
    "    \n",
    "    def __repr__(self):\n",
    "        #pass\n",
    "        return \"Employee('{}','{}','{}')\".format(self.first, self.last,self.pay)\n",
    "    \n",
    "    def __str__(self):\n",
    "        #pass\n",
    "        return '{} - {}'.format(self.fullname(), self.email)\n",
    "    \n",
    "    def __add__(self,other):\n",
    "        return self.pay + other.pay\n",
    "    \n",
    "    def __len__(self):\n",
    "        return len(self.fullname())\n",
    "    \n",
    "    # repr method is meant to be unambiguous representation of object and used for debugging, loggin\n",
    "    #str method is meant to more readable representation object. used for display to users\n",
    "    \n",
    "\n",
    "emp_1= Employee('atulqqqqq','sharma',5000)\n",
    "emp_2= Employee('test','user',6999)\n",
    "\n",
    "\n",
    "#print(emp_1 + emp_2)\n",
    "\n",
    "print(len(emp_1))\n",
    "\n",
    "\n",
    "\n"
   ]
  },
  {
   "cell_type": "markdown",
   "id": "317f23e6",
   "metadata": {},
   "source": [
    "# Python OOP Tutorial 6: Property Decorators - Getters, Setters, and Deleters"
   ]
  },
  {
   "cell_type": "code",
   "execution_count": 104,
   "id": "1047dc50",
   "metadata": {},
   "outputs": [
    {
     "name": "stdout",
     "output_type": "stream",
     "text": [
      "atulqqqqq\n",
      "atulqqqqq.sharma@company.com\n",
      "atulqqqqq sharma\n"
     ]
    }
   ],
   "source": [
    "class Employee:\n",
    "    \n",
    "    raise_amount = 1.04\n",
    "    num_of_employees = 0\n",
    "    \n",
    "    def __init__(self, first, last):\n",
    "        self.first=first\n",
    "        self.last=last\n",
    "        self.pay=pay\n",
    "        self.email = first + '.' + last + '@company.com'\n",
    "        Employee.num_of_employees +=1\n",
    "        \n",
    "    def fullname(self):\n",
    "        return '{} {}'.format(self.first, self.last)\n",
    "\n",
    "\n",
    "emp_1= Employee('atulqqqqq','sharma')\n",
    "\n",
    "\n",
    "print(emp_1.first)\n",
    "print(emp_1.email)\n",
    "print(emp_1.fullname())"
   ]
  },
  {
   "cell_type": "code",
   "execution_count": 105,
   "id": "abfdf352",
   "metadata": {},
   "outputs": [
    {
     "name": "stdout",
     "output_type": "stream",
     "text": [
      "Jim\n",
      "atulqqqqq.sharma@company.com\n",
      "Jim sharma\n"
     ]
    }
   ],
   "source": [
    "class Employee:\n",
    "    \n",
    "    raise_amount = 1.04\n",
    "    num_of_employees = 0\n",
    "    \n",
    "    def __init__(self, first, last):\n",
    "        self.first=first\n",
    "        self.last=last\n",
    "        #self.pay=pay\n",
    "        self.email = first + '.' + last + '@company.com'\n",
    "        Employee.num_of_employees +=1\n",
    "        \n",
    "    def fullname(self):\n",
    "        return '{} {}'.format(self.first, self.last)\n",
    "\n",
    "\n",
    "emp_1= Employee('atulqqqqq','sharma')\n",
    "\n",
    "\n",
    "emp_1.first = 'Jim'\n",
    "\n",
    "print(emp_1.first)\n",
    "print(emp_1.email)\n",
    "print(emp_1.fullname())"
   ]
  },
  {
   "cell_type": "code",
   "execution_count": 106,
   "id": "9d584e73",
   "metadata": {},
   "outputs": [
    {
     "name": "stdout",
     "output_type": "stream",
     "text": [
      "Jim\n",
      "Jim.sharma@email.com\n",
      "Jim sharma\n"
     ]
    }
   ],
   "source": [
    "class Employee:\n",
    "    \n",
    "    raise_amount = 1.04\n",
    "    num_of_employees = 0\n",
    "    \n",
    "    def __init__(self, first, last):\n",
    "        self.first=first\n",
    "        self.last=last\n",
    "        \n",
    "    \n",
    "    def email(self):\n",
    "        return '{}.{}@email.com'.format(self.first, self.last)\n",
    "        \n",
    "    def fullname(self):\n",
    "        return '{} {}'.format(self.first, self.last)\n",
    "\n",
    "\n",
    "emp_1= Employee('atulqqqqq','sharma')\n",
    "\n",
    "\n",
    "emp_1.first = 'Jim'\n",
    "\n",
    "print(emp_1.first)\n",
    "print(emp_1.email())\n",
    "print(emp_1.fullname())"
   ]
  },
  {
   "cell_type": "code",
   "execution_count": 109,
   "id": "ab686192",
   "metadata": {},
   "outputs": [
    {
     "name": "stdout",
     "output_type": "stream",
     "text": [
      "Jim\n",
      "Jim.sharma@email.com\n",
      "Jim sharma\n"
     ]
    }
   ],
   "source": [
    "class Employee:\n",
    "    \n",
    "    raise_amount = 1.04\n",
    "    num_of_employees = 0\n",
    "    \n",
    "    def __init__(self, first, last):\n",
    "        self.first=first\n",
    "        self.last=last\n",
    "        \n",
    "    @property\n",
    "    def email(self):\n",
    "        return '{}.{}@email.com'.format(self.first, self.last)\n",
    "    \n",
    "    @property\n",
    "    def fullname(self):\n",
    "        return '{} {}'.format(self.first, self.last)\n",
    "\n",
    "\n",
    "emp_1= Employee('atulqqqqq','sharma')\n",
    "\n",
    "\n",
    "emp_1.first = 'Jim'\n",
    "\n",
    "print(emp_1.first)\n",
    "print(emp_1.email)\n",
    "print(emp_1.fullname)"
   ]
  },
  {
   "cell_type": "code",
   "execution_count": 110,
   "id": "011226e5",
   "metadata": {},
   "outputs": [
    {
     "name": "stdout",
     "output_type": "stream",
     "text": [
      "Jimmy\n",
      "Jimmy.shergil@email.com\n",
      "Jimmy shergil\n"
     ]
    }
   ],
   "source": [
    "class Employee:\n",
    "    \n",
    "    raise_amount = 1.04\n",
    "    num_of_employees = 0\n",
    "    \n",
    "    def __init__(self, first, last):\n",
    "        self.first=first\n",
    "        self.last=last\n",
    "        \n",
    "    @property\n",
    "    def email(self):\n",
    "        return '{}.{}@email.com'.format(self.first, self.last)\n",
    "    \n",
    "    @property\n",
    "    def fullname(self):\n",
    "        return '{} {}'.format(self.first, self.last)\n",
    "    \n",
    "    @fullname.setter\n",
    "    \n",
    "    def fullname(self,name):\n",
    "        first, last = name.split(' ')\n",
    "        self.first = first\n",
    "        self.last = last\n",
    "\n",
    "\n",
    "emp_1= Employee('atulqqqqq','sharma')\n",
    "\n",
    "\n",
    "emp_1.fullname = 'Jimmy shergil'\n",
    "\n",
    "print(emp_1.first)\n",
    "print(emp_1.email)\n",
    "print(emp_1.fullname)"
   ]
  },
  {
   "cell_type": "code",
   "execution_count": 112,
   "id": "be933d1a",
   "metadata": {},
   "outputs": [
    {
     "name": "stdout",
     "output_type": "stream",
     "text": [
      "Jimmy\n",
      "Jimmy.shergil@email.com\n",
      "Jimmy shergil\n",
      "Delete name\n",
      "None\n",
      "None.None@email.com\n",
      "None None\n"
     ]
    }
   ],
   "source": [
    "class Employee:\n",
    "    \n",
    "    raise_amount = 1.04\n",
    "    num_of_employees = 0\n",
    "    \n",
    "    def __init__(self, first, last):\n",
    "        self.first=first\n",
    "        self.last=last\n",
    "        \n",
    "    @property\n",
    "    def email(self):\n",
    "        return '{}.{}@email.com'.format(self.first, self.last)\n",
    "    \n",
    "    @property\n",
    "    def fullname(self):\n",
    "        return '{} {}'.format(self.first, self.last)\n",
    "    \n",
    "    @fullname.setter\n",
    "    \n",
    "    def fullname(self,name):\n",
    "        first, last = name.split(' ')\n",
    "        self.first = first\n",
    "        self.last = last\n",
    "        \n",
    "    @fullname.deleter\n",
    "    \n",
    "    def fullname(self):\n",
    "        print(\"Delete name\")\n",
    "        \n",
    "        self.first = None\n",
    "        self.last = None\n",
    "\n",
    "\n",
    "emp_1= Employee('atulqqqqq','sharma')\n",
    "\n",
    "\n",
    "emp_1.fullname = 'Jimmy shergil'\n",
    "\n",
    "print(emp_1.first)\n",
    "print(emp_1.email)\n",
    "print(emp_1.fullname)\n",
    "\n",
    "del emp_1.fullname\n",
    "\n",
    "print(emp_1.first)\n",
    "print(emp_1.email)\n",
    "print(emp_1.fullname)\n",
    "\n"
   ]
  },
  {
   "cell_type": "code",
   "execution_count": null,
   "id": "babd6c7e",
   "metadata": {},
   "outputs": [],
   "source": []
  }
 ],
 "metadata": {
  "kernelspec": {
   "display_name": "Python 3 (ipykernel)",
   "language": "python",
   "name": "python3"
  },
  "language_info": {
   "codemirror_mode": {
    "name": "ipython",
    "version": 3
   },
   "file_extension": ".py",
   "mimetype": "text/x-python",
   "name": "python",
   "nbconvert_exporter": "python",
   "pygments_lexer": "ipython3",
   "version": "3.8.3rc1"
  }
 },
 "nbformat": 4,
 "nbformat_minor": 5
}
