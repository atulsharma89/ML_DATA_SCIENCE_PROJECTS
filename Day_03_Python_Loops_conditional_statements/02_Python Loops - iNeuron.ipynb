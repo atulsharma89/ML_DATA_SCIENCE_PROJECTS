{
 "cells": [
  {
   "cell_type": "code",
   "execution_count": 2,
   "id": "97b228df",
   "metadata": {},
   "outputs": [
    {
     "name": "stdout",
     "output_type": "stream",
     "text": [
      "1\n",
      "2\n",
      "3\n",
      "4\n",
      "I am out of my loop\n"
     ]
    }
   ],
   "source": [
    "#while else loop\n",
    "notes  = 5\n",
    "\n",
    "i = 1\n",
    "\n",
    "while i < 5:\n",
    "    print (i)\n",
    "    i +=1\n",
    "else:\n",
    "    print(\"I am out of my loop\")"
   ]
  },
  {
   "cell_type": "code",
   "execution_count": 5,
   "id": "63fdfc12",
   "metadata": {},
   "outputs": [
    {
     "name": "stdout",
     "output_type": "stream",
     "text": [
      "1\n",
      "2\n",
      "3\n",
      "4\n",
      "Iam j 1\n",
      "Iam j 2\n",
      "Iam j 3\n",
      "Iam j 4\n",
      "I am out of my loop\n"
     ]
    }
   ],
   "source": [
    "notes  = 5\n",
    "\n",
    "i = 1\n",
    "j = 1\n",
    "\n",
    "while i < 5:\n",
    "    print (i)\n",
    "    i +=1\n",
    "else:\n",
    "    while j < 5:\n",
    "        print(\"Iam j\", j)\n",
    "        j = j + 1\n",
    "    print(\"I am out of my loop\")"
   ]
  },
  {
   "cell_type": "code",
   "execution_count": 7,
   "id": "9c9776d3",
   "metadata": {},
   "outputs": [
    {
     "data": {
      "text/plain": [
       "'sudh'"
      ]
     },
     "execution_count": 7,
     "metadata": {},
     "output_type": "execute_result"
    }
   ],
   "source": [
    "s = \"sudh\"\n",
    "\n",
    "s"
   ]
  },
  {
   "cell_type": "code",
   "execution_count": 9,
   "id": "60704291",
   "metadata": {},
   "outputs": [
    {
     "data": {
      "text/plain": [
       "'d'"
      ]
     },
     "execution_count": 9,
     "metadata": {},
     "output_type": "execute_result"
    }
   ],
   "source": [
    "s[2]"
   ]
  },
  {
   "cell_type": "code",
   "execution_count": 10,
   "id": "e3731928",
   "metadata": {},
   "outputs": [
    {
     "ename": "IndexError",
     "evalue": "string index out of range",
     "output_type": "error",
     "traceback": [
      "\u001b[0;31m---------------------------------------------------------------------------\u001b[0m",
      "\u001b[0;31mIndexError\u001b[0m                                Traceback (most recent call last)",
      "Input \u001b[0;32mIn [10]\u001b[0m, in \u001b[0;36m<cell line: 1>\u001b[0;34m()\u001b[0m\n\u001b[0;32m----> 1\u001b[0m \u001b[43ms\u001b[49m\u001b[43m[\u001b[49m\u001b[38;5;241;43m20\u001b[39;49m\u001b[43m]\u001b[49m\n",
      "\u001b[0;31mIndexError\u001b[0m: string index out of range"
     ]
    }
   ],
   "source": [
    "s[20]"
   ]
  },
  {
   "cell_type": "code",
   "execution_count": 11,
   "id": "c3d4749f",
   "metadata": {},
   "outputs": [
    {
     "data": {
      "text/plain": [
       "'uknip si eman ym'"
      ]
     },
     "execution_count": 11,
     "metadata": {},
     "output_type": "execute_result"
    }
   ],
   "source": [
    "s = \"my name is pinku\"\n",
    "\n",
    "\n",
    "#reverse data\n",
    "\n",
    "s[::-1]"
   ]
  },
  {
   "cell_type": "code",
   "execution_count": 12,
   "id": "9873d2cd",
   "metadata": {},
   "outputs": [
    {
     "data": {
      "text/plain": [
       "'name is pinku'"
      ]
     },
     "execution_count": 12,
     "metadata": {},
     "output_type": "execute_result"
    }
   ],
   "source": [
    "s[3:]"
   ]
  },
  {
   "cell_type": "code",
   "execution_count": 13,
   "id": "eb26eb5e",
   "metadata": {},
   "outputs": [],
   "source": [
    "#string stores data in form of indexes"
   ]
  },
  {
   "cell_type": "code",
   "execution_count": 16,
   "id": "8a247cb4",
   "metadata": {},
   "outputs": [
    {
     "data": {
      "text/plain": [
       "'name'"
      ]
     },
     "execution_count": 16,
     "metadata": {},
     "output_type": "execute_result"
    }
   ],
   "source": [
    "s[3:7]"
   ]
  },
  {
   "cell_type": "code",
   "execution_count": 18,
   "id": "8f95f9ed",
   "metadata": {},
   "outputs": [
    {
     "data": {
      "text/plain": [
       "'nm'"
      ]
     },
     "execution_count": 18,
     "metadata": {},
     "output_type": "execute_result"
    }
   ],
   "source": [
    "s[3:7:2]\n",
    "\n",
    "#in this example 2 reprsents the step size"
   ]
  },
  {
   "cell_type": "code",
   "execution_count": 19,
   "id": "bf57c3bb",
   "metadata": {},
   "outputs": [
    {
     "data": {
      "text/plain": [
       "'name'"
      ]
     },
     "execution_count": 19,
     "metadata": {},
     "output_type": "execute_result"
    }
   ],
   "source": [
    "#reversing the string\n",
    "\n",
    "s[3:7]"
   ]
  },
  {
   "cell_type": "code",
   "execution_count": 22,
   "id": "79659f6f",
   "metadata": {},
   "outputs": [
    {
     "data": {
      "text/plain": [
       "''"
      ]
     },
     "execution_count": 22,
     "metadata": {},
     "output_type": "execute_result"
    }
   ],
   "source": [
    "#by DEFAULT step size will be equal to 1\n",
    "\n",
    "s[7:3:1]"
   ]
  },
  {
   "cell_type": "code",
   "execution_count": 23,
   "id": "c0a9b15d",
   "metadata": {},
   "outputs": [
    {
     "data": {
      "text/plain": [
       "' ema'"
      ]
     },
     "execution_count": 23,
     "metadata": {},
     "output_type": "execute_result"
    }
   ],
   "source": [
    "s[7:3:-1]"
   ]
  },
  {
   "cell_type": "code",
   "execution_count": 26,
   "id": "25ebb227",
   "metadata": {},
   "outputs": [
    {
     "name": "stdout",
     "output_type": "stream",
     "text": [
      "my name is pinku\n"
     ]
    },
    {
     "data": {
      "text/plain": [
       "'eman'"
      ]
     },
     "execution_count": 26,
     "metadata": {},
     "output_type": "execute_result"
    }
   ],
   "source": [
    "print(s)\n",
    "s[6:2:-1]"
   ]
  },
  {
   "cell_type": "code",
   "execution_count": 27,
   "id": "63ad55fc",
   "metadata": {},
   "outputs": [
    {
     "data": {
      "text/plain": [
       "'uknip si eman ym'"
      ]
     },
     "execution_count": 27,
     "metadata": {},
     "output_type": "execute_result"
    }
   ],
   "source": [
    "#reversal of complte string\n",
    "\n",
    "s[::-1]"
   ]
  },
  {
   "cell_type": "code",
   "execution_count": 29,
   "id": "944c93e6",
   "metadata": {},
   "outputs": [
    {
     "name": "stdout",
     "output_type": "stream",
     "text": [
      "my name is pinku\n"
     ]
    },
    {
     "data": {
      "text/plain": [
       "' name is'"
      ]
     },
     "execution_count": 29,
     "metadata": {},
     "output_type": "execute_result"
    }
   ],
   "source": [
    "print(s)\n",
    "s[2:-6]"
   ]
  },
  {
   "cell_type": "code",
   "execution_count": 33,
   "id": "4a1f3464",
   "metadata": {},
   "outputs": [
    {
     "name": "stdout",
     "output_type": "stream",
     "text": [
      "u\n",
      "u\n"
     ]
    }
   ],
   "source": [
    "#we can iterate over data in both forward and backward direction\n",
    "\n",
    "print(s[-1])\n",
    "\n",
    "print(s[15])"
   ]
  },
  {
   "cell_type": "code",
   "execution_count": 34,
   "id": "c9ed0882",
   "metadata": {},
   "outputs": [
    {
     "name": "stdout",
     "output_type": "stream",
     "text": [
      "m\n",
      "y\n",
      " \n",
      "n\n",
      "a\n",
      "m\n",
      "e\n",
      " \n",
      "i\n",
      "s\n",
      " \n",
      "p\n",
      "i\n",
      "n\n",
      "k\n",
      "u\n"
     ]
    }
   ],
   "source": [
    "for i in s:\n",
    "    print(i)"
   ]
  },
  {
   "cell_type": "code",
   "execution_count": 35,
   "id": "9ef4cdf8",
   "metadata": {},
   "outputs": [
    {
     "name": "stdout",
     "output_type": "stream",
     "text": [
      "M\n",
      "Y\n",
      " \n",
      "N\n",
      "A\n",
      "M\n",
      "E\n",
      " \n",
      "I\n",
      "S\n",
      " \n",
      "P\n",
      "I\n",
      "N\n",
      "K\n",
      "U\n"
     ]
    }
   ],
   "source": [
    "for i in s:\n",
    "    print(i.upper())"
   ]
  },
  {
   "cell_type": "code",
   "execution_count": 36,
   "id": "bfabc48a",
   "metadata": {},
   "outputs": [
    {
     "name": "stdout",
     "output_type": "stream",
     "text": [
      "m\n",
      "y\n",
      " \n",
      "n\n",
      "a\n",
      "m\n",
      "e\n",
      " \n",
      "i\n",
      "I found s\n",
      "s\n",
      " \n",
      "p\n",
      "i\n",
      "n\n",
      "k\n",
      "u\n"
     ]
    }
   ],
   "source": [
    "for i in s:\n",
    "    if i == 's':\n",
    "        print(\"I found s\")\n",
    "        \n",
    "    print(i)"
   ]
  },
  {
   "cell_type": "code",
   "execution_count": 37,
   "id": "2bf51624",
   "metadata": {},
   "outputs": [
    {
     "data": {
      "text/plain": [
       "'my name is pinku'"
      ]
     },
     "execution_count": 37,
     "metadata": {},
     "output_type": "execute_result"
    }
   ],
   "source": [
    "s"
   ]
  },
  {
   "cell_type": "code",
   "execution_count": 39,
   "id": "1c1e8475",
   "metadata": {},
   "outputs": [
    {
     "name": "stdout",
     "output_type": "stream",
     "text": [
      "m\n",
      "y\n",
      " \n"
     ]
    }
   ],
   "source": [
    "for i in s:\n",
    "    if i =='n':\n",
    "        break\n",
    "    print(i)\n",
    "else:\n",
    "    if i == 'u':\n",
    "        print(\"I am at my last character\")\n",
    "    print(\"this is a else condition\")"
   ]
  },
  {
   "cell_type": "code",
   "execution_count": 40,
   "id": "b0a71127",
   "metadata": {},
   "outputs": [
    {
     "name": "stdout",
     "output_type": "stream",
     "text": [
      "m\n",
      "y\n",
      " \n",
      "a\n",
      "m\n",
      "e\n",
      " \n",
      "i\n",
      "s\n",
      " \n",
      "p\n",
      "i\n",
      "k\n",
      "u\n",
      "I am at my last character\n",
      "this is a else condition\n"
     ]
    }
   ],
   "source": [
    "for i in s:\n",
    "    if i =='n':\n",
    "        continue\n",
    "    print(i)\n",
    "else:\n",
    "    if i == 'u':\n",
    "        print(\"I am at my last character\")\n",
    "    print(\"this is a else condition\")"
   ]
  },
  {
   "cell_type": "code",
   "execution_count": 41,
   "id": "52f342d8",
   "metadata": {},
   "outputs": [
    {
     "name": "stdout",
     "output_type": "stream",
     "text": [
      "m\n",
      "y\n",
      " \n",
      "n\n",
      "a\n",
      "m\n",
      "e\n",
      " \n",
      "i\n",
      "s\n",
      " \n",
      "p\n",
      "i\n",
      "n\n",
      "k\n",
      "u\n",
      "I am at my last character\n",
      "this is a else condition\n"
     ]
    }
   ],
   "source": [
    "for i in s:\n",
    "    if i =='n':\n",
    "        pass\n",
    "    print(i)\n",
    "else:\n",
    "    if i == 'u':\n",
    "        print(\"I am at my last character\")\n",
    "    print(\"this is a else condition\")"
   ]
  },
  {
   "cell_type": "code",
   "execution_count": 42,
   "id": "a54ffde5",
   "metadata": {},
   "outputs": [],
   "source": [
    "s = \"ineuron\"\n",
    "\n",
    "ss=''\n",
    "\n",
    "for i in range(len(s)):\n",
    "    if s[i] == 'n':\n",
    "        continue\n",
    "    else:\n",
    "        ss = ss + s[i]"
   ]
  },
  {
   "cell_type": "code",
   "execution_count": 43,
   "id": "cfc4fd10",
   "metadata": {},
   "outputs": [
    {
     "data": {
      "text/plain": [
       "'ieuro'"
      ]
     },
     "execution_count": 43,
     "metadata": {},
     "output_type": "execute_result"
    }
   ],
   "source": [
    "ss"
   ]
  },
  {
   "cell_type": "code",
   "execution_count": 44,
   "id": "a82ad1ad",
   "metadata": {},
   "outputs": [
    {
     "name": "stdout",
     "output_type": "stream",
     "text": [
      "+ \r\n",
      "+ + \r\n",
      "+ + + \r\n",
      "+ + + + \r\n",
      "+ + + + + \r\n",
      "+ + + + + + \r\n",
      "+ + + + + + + \r\n"
     ]
    }
   ],
   "source": [
    "n = 7\n",
    "\n",
    "for i in range(0,n):\n",
    "    for j in range(0, i+1):\n",
    "        print(\"+ \", end = \"\")\n",
    "    print(\"\\r\")"
   ]
  },
  {
   "cell_type": "code",
   "execution_count": null,
   "id": "b12d276c",
   "metadata": {},
   "outputs": [],
   "source": []
  }
 ],
 "metadata": {
  "kernelspec": {
   "display_name": "Python 3 (ipykernel)",
   "language": "python",
   "name": "python3"
  },
  "language_info": {
   "codemirror_mode": {
    "name": "ipython",
    "version": 3
   },
   "file_extension": ".py",
   "mimetype": "text/x-python",
   "name": "python",
   "nbconvert_exporter": "python",
   "pygments_lexer": "ipython3",
   "version": "3.8.3rc1"
  }
 },
 "nbformat": 4,
 "nbformat_minor": 5
}
