{
 "cells": [
  {
   "cell_type": "markdown",
   "metadata": {},
   "source": [
    "## Automate EDA Session"
   ]
  },
  {
   "cell_type": "code",
   "execution_count": 1,
   "metadata": {},
   "outputs": [
    {
     "name": "stdout",
     "output_type": "stream",
     "text": [
      "Requirement already satisfied: pandas_profiling in /Users/atul595525/anaconda3/lib/python3.7/site-packages (2.9.0)\n",
      "Requirement already satisfied: requests>=2.23.0 in /Users/atul595525/anaconda3/lib/python3.7/site-packages (from pandas_profiling) (2.23.0)\n",
      "Requirement already satisfied: pandas!=1.0.0,!=1.0.1,!=1.0.2,!=1.1.0,>=0.25.3 in /Users/atul595525/anaconda3/lib/python3.7/site-packages (from pandas_profiling) (1.0.3)\n",
      "Requirement already satisfied: visions[type_image_path]==0.5.0 in /Users/atul595525/anaconda3/lib/python3.7/site-packages (from pandas_profiling) (0.5.0)\n",
      "Requirement already satisfied: tangled-up-in-unicode>=0.0.6 in /Users/atul595525/anaconda3/lib/python3.7/site-packages (from pandas_profiling) (0.0.6)\n",
      "Requirement already satisfied: tqdm>=4.43.0 in /Users/atul595525/anaconda3/lib/python3.7/site-packages (from pandas_profiling) (4.46.0)\n",
      "Requirement already satisfied: htmlmin>=0.1.12 in /Users/atul595525/anaconda3/lib/python3.7/site-packages (from pandas_profiling) (0.1.12)\n",
      "Requirement already satisfied: confuse>=1.0.0 in /Users/atul595525/anaconda3/lib/python3.7/site-packages (from pandas_profiling) (1.3.0)\n",
      "Requirement already satisfied: joblib in /Users/atul595525/anaconda3/lib/python3.7/site-packages (from pandas_profiling) (0.15.1)\n",
      "Requirement already satisfied: matplotlib>=3.2.0 in /Users/atul595525/anaconda3/lib/python3.7/site-packages (from pandas_profiling) (3.3.2)\n",
      "Requirement already satisfied: scipy>=1.4.1 in /Users/atul595525/anaconda3/lib/python3.7/site-packages (from pandas_profiling) (1.4.1)\n",
      "Requirement already satisfied: jinja2>=2.11.1 in /Users/atul595525/anaconda3/lib/python3.7/site-packages (from pandas_profiling) (2.11.2)\n",
      "Requirement already satisfied: numpy>=1.16.0 in /Users/atul595525/anaconda3/lib/python3.7/site-packages (from pandas_profiling) (1.16.4)\n",
      "Requirement already satisfied: phik>=0.9.10 in /Users/atul595525/anaconda3/lib/python3.7/site-packages (from pandas_profiling) (0.10.0)\n",
      "Requirement already satisfied: attrs>=19.3.0 in /Users/atul595525/anaconda3/lib/python3.7/site-packages (from pandas_profiling) (19.3.0)\n",
      "Requirement already satisfied: seaborn>=0.10.1 in /Users/atul595525/anaconda3/lib/python3.7/site-packages (from pandas_profiling) (0.10.1)\n",
      "Requirement already satisfied: ipywidgets>=7.5.1 in /Users/atul595525/anaconda3/lib/python3.7/site-packages (from pandas_profiling) (7.5.1)\n",
      "Requirement already satisfied: missingno>=0.4.2 in /Users/atul595525/anaconda3/lib/python3.7/site-packages (from pandas_profiling) (0.4.2)\n",
      "Requirement already satisfied: idna<3,>=2.5 in /Users/atul595525/anaconda3/lib/python3.7/site-packages (from requests>=2.23.0->pandas_profiling) (2.9)\n",
      "Requirement already satisfied: chardet<4,>=3.0.2 in /Users/atul595525/anaconda3/lib/python3.7/site-packages (from requests>=2.23.0->pandas_profiling) (3.0.4)\n",
      "Requirement already satisfied: urllib3!=1.25.0,!=1.25.1,<1.26,>=1.21.1 in /Users/atul595525/anaconda3/lib/python3.7/site-packages (from requests>=2.23.0->pandas_profiling) (1.25.8)\n",
      "Requirement already satisfied: certifi>=2017.4.17 in /Users/atul595525/anaconda3/lib/python3.7/site-packages (from requests>=2.23.0->pandas_profiling) (2020.6.20)\n",
      "Requirement already satisfied: pytz>=2017.2 in /Users/atul595525/anaconda3/lib/python3.7/site-packages (from pandas!=1.0.0,!=1.0.1,!=1.0.2,!=1.1.0,>=0.25.3->pandas_profiling) (2020.1)\n",
      "Requirement already satisfied: python-dateutil>=2.6.1 in /Users/atul595525/anaconda3/lib/python3.7/site-packages (from pandas!=1.0.0,!=1.0.1,!=1.0.2,!=1.1.0,>=0.25.3->pandas_profiling) (2.8.1)\n",
      "Requirement already satisfied: networkx>=2.4 in /Users/atul595525/anaconda3/lib/python3.7/site-packages (from visions[type_image_path]==0.5.0->pandas_profiling) (2.4)\n",
      "Requirement already satisfied: Pillow; extra == \"type_image_path\" in /Users/atul595525/anaconda3/lib/python3.7/site-packages (from visions[type_image_path]==0.5.0->pandas_profiling) (7.1.2)\n",
      "Requirement already satisfied: imagehash; extra == \"type_image_path\" in /Users/atul595525/anaconda3/lib/python3.7/site-packages (from visions[type_image_path]==0.5.0->pandas_profiling) (4.1.0)\n",
      "Requirement already satisfied: pyyaml in /Users/atul595525/anaconda3/lib/python3.7/site-packages (from confuse>=1.0.0->pandas_profiling) (5.3.1)\n",
      "Requirement already satisfied: pyparsing!=2.0.4,!=2.1.2,!=2.1.6,>=2.0.3 in /Users/atul595525/anaconda3/lib/python3.7/site-packages (from matplotlib>=3.2.0->pandas_profiling) (2.4.7)\n",
      "Requirement already satisfied: kiwisolver>=1.0.1 in /Users/atul595525/anaconda3/lib/python3.7/site-packages (from matplotlib>=3.2.0->pandas_profiling) (1.2.0)\n",
      "Requirement already satisfied: cycler>=0.10 in /Users/atul595525/anaconda3/lib/python3.7/site-packages (from matplotlib>=3.2.0->pandas_profiling) (0.10.0)\n",
      "Requirement already satisfied: MarkupSafe>=0.23 in /Users/atul595525/anaconda3/lib/python3.7/site-packages (from jinja2>=2.11.1->pandas_profiling) (1.1.1)\n",
      "Requirement already satisfied: numba>=0.38.1 in /Users/atul595525/anaconda3/lib/python3.7/site-packages (from phik>=0.9.10->pandas_profiling) (0.49.1)\n",
      "Requirement already satisfied: ipython>=4.0.0; python_version >= \"3.3\" in /Users/atul595525/anaconda3/lib/python3.7/site-packages (from ipywidgets>=7.5.1->pandas_profiling) (7.13.0)\n",
      "Requirement already satisfied: traitlets>=4.3.1 in /Users/atul595525/anaconda3/lib/python3.7/site-packages (from ipywidgets>=7.5.1->pandas_profiling) (4.3.3)\n",
      "Requirement already satisfied: widgetsnbextension~=3.5.0 in /Users/atul595525/anaconda3/lib/python3.7/site-packages (from ipywidgets>=7.5.1->pandas_profiling) (3.5.1)\n",
      "Requirement already satisfied: nbformat>=4.2.0 in /Users/atul595525/anaconda3/lib/python3.7/site-packages (from ipywidgets>=7.5.1->pandas_profiling) (5.0.6)\n",
      "Requirement already satisfied: ipykernel>=4.5.1 in /Users/atul595525/anaconda3/lib/python3.7/site-packages (from ipywidgets>=7.5.1->pandas_profiling) (5.1.4)\n",
      "Requirement already satisfied: six>=1.5 in /Users/atul595525/anaconda3/lib/python3.7/site-packages (from python-dateutil>=2.6.1->pandas!=1.0.0,!=1.0.1,!=1.0.2,!=1.1.0,>=0.25.3->pandas_profiling) (1.14.0)\n",
      "Requirement already satisfied: decorator>=4.3.0 in /Users/atul595525/anaconda3/lib/python3.7/site-packages (from networkx>=2.4->visions[type_image_path]==0.5.0->pandas_profiling) (4.4.2)\n",
      "Requirement already satisfied: PyWavelets in /Users/atul595525/anaconda3/lib/python3.7/site-packages (from imagehash; extra == \"type_image_path\"->visions[type_image_path]==0.5.0->pandas_profiling) (1.1.1)\n",
      "Requirement already satisfied: llvmlite<=0.33.0.dev0,>=0.31.0.dev0 in /Users/atul595525/anaconda3/lib/python3.7/site-packages (from numba>=0.38.1->phik>=0.9.10->pandas_profiling) (0.32.1)\n",
      "Requirement already satisfied: setuptools in /Users/atul595525/anaconda3/lib/python3.7/site-packages (from numba>=0.38.1->phik>=0.9.10->pandas_profiling) (46.4.0.post20200518)\n",
      "Requirement already satisfied: pexpect; sys_platform != \"win32\" in /Users/atul595525/anaconda3/lib/python3.7/site-packages (from ipython>=4.0.0; python_version >= \"3.3\"->ipywidgets>=7.5.1->pandas_profiling) (4.8.0)\n",
      "Requirement already satisfied: jedi>=0.10 in /Users/atul595525/anaconda3/lib/python3.7/site-packages (from ipython>=4.0.0; python_version >= \"3.3\"->ipywidgets>=7.5.1->pandas_profiling) (0.15.2)\n",
      "Requirement already satisfied: appnope; sys_platform == \"darwin\" in /Users/atul595525/anaconda3/lib/python3.7/site-packages (from ipython>=4.0.0; python_version >= \"3.3\"->ipywidgets>=7.5.1->pandas_profiling) (0.1.0)\n",
      "Requirement already satisfied: pygments in /Users/atul595525/anaconda3/lib/python3.7/site-packages (from ipython>=4.0.0; python_version >= \"3.3\"->ipywidgets>=7.5.1->pandas_profiling) (2.6.1)\n",
      "Requirement already satisfied: backcall in /Users/atul595525/anaconda3/lib/python3.7/site-packages (from ipython>=4.0.0; python_version >= \"3.3\"->ipywidgets>=7.5.1->pandas_profiling) (0.1.0)\n",
      "Requirement already satisfied: prompt-toolkit!=3.0.0,!=3.0.1,<3.1.0,>=2.0.0 in /Users/atul595525/anaconda3/lib/python3.7/site-packages (from ipython>=4.0.0; python_version >= \"3.3\"->ipywidgets>=7.5.1->pandas_profiling) (3.0.4)\n",
      "Requirement already satisfied: pickleshare in /Users/atul595525/anaconda3/lib/python3.7/site-packages (from ipython>=4.0.0; python_version >= \"3.3\"->ipywidgets>=7.5.1->pandas_profiling) (0.7.5)\n",
      "Requirement already satisfied: ipython-genutils in /Users/atul595525/anaconda3/lib/python3.7/site-packages (from traitlets>=4.3.1->ipywidgets>=7.5.1->pandas_profiling) (0.2.0)\n",
      "Requirement already satisfied: notebook>=4.4.1 in /Users/atul595525/anaconda3/lib/python3.7/site-packages (from widgetsnbextension~=3.5.0->ipywidgets>=7.5.1->pandas_profiling) (6.0.3)\n",
      "Requirement already satisfied: jupyter-core in /Users/atul595525/anaconda3/lib/python3.7/site-packages (from nbformat>=4.2.0->ipywidgets>=7.5.1->pandas_profiling) (4.6.3)\n"
     ]
    },
    {
     "name": "stdout",
     "output_type": "stream",
     "text": [
      "Requirement already satisfied: jsonschema!=2.5.0,>=2.4 in /Users/atul595525/anaconda3/lib/python3.7/site-packages (from nbformat>=4.2.0->ipywidgets>=7.5.1->pandas_profiling) (3.2.0)\n",
      "Requirement already satisfied: tornado>=4.2 in /Users/atul595525/anaconda3/lib/python3.7/site-packages (from ipykernel>=4.5.1->ipywidgets>=7.5.1->pandas_profiling) (6.0.4)\n",
      "Requirement already satisfied: jupyter-client in /Users/atul595525/anaconda3/lib/python3.7/site-packages (from ipykernel>=4.5.1->ipywidgets>=7.5.1->pandas_profiling) (6.1.3)\n",
      "Requirement already satisfied: ptyprocess>=0.5 in /Users/atul595525/anaconda3/lib/python3.7/site-packages (from pexpect; sys_platform != \"win32\"->ipython>=4.0.0; python_version >= \"3.3\"->ipywidgets>=7.5.1->pandas_profiling) (0.6.0)\n",
      "Requirement already satisfied: parso>=0.5.2 in /Users/atul595525/anaconda3/lib/python3.7/site-packages (from jedi>=0.10->ipython>=4.0.0; python_version >= \"3.3\"->ipywidgets>=7.5.1->pandas_profiling) (0.5.2)\n",
      "Requirement already satisfied: wcwidth in /Users/atul595525/anaconda3/lib/python3.7/site-packages (from prompt-toolkit!=3.0.0,!=3.0.1,<3.1.0,>=2.0.0->ipython>=4.0.0; python_version >= \"3.3\"->ipywidgets>=7.5.1->pandas_profiling) (0.1.9)\n",
      "Requirement already satisfied: terminado>=0.8.1 in /Users/atul595525/anaconda3/lib/python3.7/site-packages (from notebook>=4.4.1->widgetsnbextension~=3.5.0->ipywidgets>=7.5.1->pandas_profiling) (0.8.3)\n",
      "Requirement already satisfied: pyzmq>=17 in /Users/atul595525/anaconda3/lib/python3.7/site-packages (from notebook>=4.4.1->widgetsnbextension~=3.5.0->ipywidgets>=7.5.1->pandas_profiling) (18.1.1)\n",
      "Requirement already satisfied: Send2Trash in /Users/atul595525/anaconda3/lib/python3.7/site-packages (from notebook>=4.4.1->widgetsnbextension~=3.5.0->ipywidgets>=7.5.1->pandas_profiling) (1.5.0)\n",
      "Requirement already satisfied: nbconvert in /Users/atul595525/anaconda3/lib/python3.7/site-packages (from notebook>=4.4.1->widgetsnbextension~=3.5.0->ipywidgets>=7.5.1->pandas_profiling) (5.6.1)\n",
      "Requirement already satisfied: prometheus-client in /Users/atul595525/anaconda3/lib/python3.7/site-packages (from notebook>=4.4.1->widgetsnbextension~=3.5.0->ipywidgets>=7.5.1->pandas_profiling) (0.7.1)\n",
      "Requirement already satisfied: importlib-metadata; python_version < \"3.8\" in /Users/atul595525/anaconda3/lib/python3.7/site-packages (from jsonschema!=2.5.0,>=2.4->nbformat>=4.2.0->ipywidgets>=7.5.1->pandas_profiling) (1.6.0)\n",
      "Requirement already satisfied: pyrsistent>=0.14.0 in /Users/atul595525/anaconda3/lib/python3.7/site-packages (from jsonschema!=2.5.0,>=2.4->nbformat>=4.2.0->ipywidgets>=7.5.1->pandas_profiling) (0.16.0)\n",
      "Requirement already satisfied: testpath in /Users/atul595525/anaconda3/lib/python3.7/site-packages (from nbconvert->notebook>=4.4.1->widgetsnbextension~=3.5.0->ipywidgets>=7.5.1->pandas_profiling) (0.4.4)\n",
      "Requirement already satisfied: entrypoints>=0.2.2 in /Users/atul595525/anaconda3/lib/python3.7/site-packages (from nbconvert->notebook>=4.4.1->widgetsnbextension~=3.5.0->ipywidgets>=7.5.1->pandas_profiling) (0.3)\n",
      "Requirement already satisfied: pandocfilters>=1.4.1 in /Users/atul595525/anaconda3/lib/python3.7/site-packages (from nbconvert->notebook>=4.4.1->widgetsnbextension~=3.5.0->ipywidgets>=7.5.1->pandas_profiling) (1.4.2)\n",
      "Requirement already satisfied: bleach in /Users/atul595525/anaconda3/lib/python3.7/site-packages (from nbconvert->notebook>=4.4.1->widgetsnbextension~=3.5.0->ipywidgets>=7.5.1->pandas_profiling) (3.1.4)\n",
      "Requirement already satisfied: defusedxml in /Users/atul595525/anaconda3/lib/python3.7/site-packages (from nbconvert->notebook>=4.4.1->widgetsnbextension~=3.5.0->ipywidgets>=7.5.1->pandas_profiling) (0.6.0)\n",
      "Requirement already satisfied: mistune<2,>=0.8.1 in /Users/atul595525/anaconda3/lib/python3.7/site-packages (from nbconvert->notebook>=4.4.1->widgetsnbextension~=3.5.0->ipywidgets>=7.5.1->pandas_profiling) (0.8.4)\n",
      "Requirement already satisfied: zipp>=0.5 in /Users/atul595525/anaconda3/lib/python3.7/site-packages (from importlib-metadata; python_version < \"3.8\"->jsonschema!=2.5.0,>=2.4->nbformat>=4.2.0->ipywidgets>=7.5.1->pandas_profiling) (3.1.0)\n",
      "Requirement already satisfied: webencodings in /Users/atul595525/anaconda3/lib/python3.7/site-packages (from bleach->nbconvert->notebook>=4.4.1->widgetsnbextension~=3.5.0->ipywidgets>=7.5.1->pandas_profiling) (0.5.1)\n"
     ]
    }
   ],
   "source": [
    "!pip install pandas_profiling"
   ]
  },
  {
   "cell_type": "code",
   "execution_count": 2,
   "metadata": {},
   "outputs": [],
   "source": [
    "import pandas_profiling"
   ]
  },
  {
   "cell_type": "code",
   "execution_count": 3,
   "metadata": {},
   "outputs": [],
   "source": [
    "import seaborn as sns"
   ]
  },
  {
   "cell_type": "code",
   "execution_count": 5,
   "metadata": {},
   "outputs": [],
   "source": [
    "df = sns.load_dataset('tips')"
   ]
  },
  {
   "cell_type": "code",
   "execution_count": 6,
   "metadata": {},
   "outputs": [
    {
     "data": {
      "text/html": [
       "<div>\n",
       "<style scoped>\n",
       "    .dataframe tbody tr th:only-of-type {\n",
       "        vertical-align: middle;\n",
       "    }\n",
       "\n",
       "    .dataframe tbody tr th {\n",
       "        vertical-align: top;\n",
       "    }\n",
       "\n",
       "    .dataframe thead th {\n",
       "        text-align: right;\n",
       "    }\n",
       "</style>\n",
       "<table border=\"1\" class=\"dataframe\">\n",
       "  <thead>\n",
       "    <tr style=\"text-align: right;\">\n",
       "      <th></th>\n",
       "      <th>total_bill</th>\n",
       "      <th>tip</th>\n",
       "      <th>sex</th>\n",
       "      <th>smoker</th>\n",
       "      <th>day</th>\n",
       "      <th>time</th>\n",
       "      <th>size</th>\n",
       "    </tr>\n",
       "  </thead>\n",
       "  <tbody>\n",
       "    <tr>\n",
       "      <th>0</th>\n",
       "      <td>16.99</td>\n",
       "      <td>1.01</td>\n",
       "      <td>Female</td>\n",
       "      <td>No</td>\n",
       "      <td>Sun</td>\n",
       "      <td>Dinner</td>\n",
       "      <td>2</td>\n",
       "    </tr>\n",
       "    <tr>\n",
       "      <th>1</th>\n",
       "      <td>10.34</td>\n",
       "      <td>1.66</td>\n",
       "      <td>Male</td>\n",
       "      <td>No</td>\n",
       "      <td>Sun</td>\n",
       "      <td>Dinner</td>\n",
       "      <td>3</td>\n",
       "    </tr>\n",
       "    <tr>\n",
       "      <th>2</th>\n",
       "      <td>21.01</td>\n",
       "      <td>3.50</td>\n",
       "      <td>Male</td>\n",
       "      <td>No</td>\n",
       "      <td>Sun</td>\n",
       "      <td>Dinner</td>\n",
       "      <td>3</td>\n",
       "    </tr>\n",
       "    <tr>\n",
       "      <th>3</th>\n",
       "      <td>23.68</td>\n",
       "      <td>3.31</td>\n",
       "      <td>Male</td>\n",
       "      <td>No</td>\n",
       "      <td>Sun</td>\n",
       "      <td>Dinner</td>\n",
       "      <td>2</td>\n",
       "    </tr>\n",
       "    <tr>\n",
       "      <th>4</th>\n",
       "      <td>24.59</td>\n",
       "      <td>3.61</td>\n",
       "      <td>Female</td>\n",
       "      <td>No</td>\n",
       "      <td>Sun</td>\n",
       "      <td>Dinner</td>\n",
       "      <td>4</td>\n",
       "    </tr>\n",
       "  </tbody>\n",
       "</table>\n",
       "</div>"
      ],
      "text/plain": [
       "   total_bill   tip     sex smoker  day    time  size\n",
       "0       16.99  1.01  Female     No  Sun  Dinner     2\n",
       "1       10.34  1.66    Male     No  Sun  Dinner     3\n",
       "2       21.01  3.50    Male     No  Sun  Dinner     3\n",
       "3       23.68  3.31    Male     No  Sun  Dinner     2\n",
       "4       24.59  3.61  Female     No  Sun  Dinner     4"
      ]
     },
     "execution_count": 6,
     "metadata": {},
     "output_type": "execute_result"
    }
   ],
   "source": [
    "df.head()"
   ]
  },
  {
   "cell_type": "code",
   "execution_count": 7,
   "metadata": {},
   "outputs": [],
   "source": [
    "from pandas_profiling import ProfileReport"
   ]
  },
  {
   "cell_type": "code",
   "execution_count": 8,
   "metadata": {},
   "outputs": [],
   "source": [
    "profile = ProfileReport(df, explorative=True, dark_mode=True)"
   ]
  },
  {
   "cell_type": "code",
   "execution_count": 9,
   "metadata": {},
   "outputs": [
    {
     "data": {
      "application/vnd.jupyter.widget-view+json": {
       "model_id": "326c4e18e28a4302ad2d05c54b83d662",
       "version_major": 2,
       "version_minor": 0
      },
      "text/plain": [
       "HBox(children=(FloatProgress(value=0.0, description='Summarize dataset', max=21.0, style=ProgressStyle(descrip…"
      ]
     },
     "metadata": {},
     "output_type": "display_data"
    },
    {
     "name": "stdout",
     "output_type": "stream",
     "text": [
      "\n"
     ]
    },
    {
     "data": {
      "application/vnd.jupyter.widget-view+json": {
       "model_id": "b3c1b762b7bd4b9688c610a1f3559224",
       "version_major": 2,
       "version_minor": 0
      },
      "text/plain": [
       "HBox(children=(FloatProgress(value=0.0, description='Generate report structure', max=1.0, style=ProgressStyle(…"
      ]
     },
     "metadata": {},
     "output_type": "display_data"
    },
    {
     "name": "stdout",
     "output_type": "stream",
     "text": [
      "\n"
     ]
    },
    {
     "data": {
      "application/vnd.jupyter.widget-view+json": {
       "model_id": "e33082a62165458db84864b884ac4044",
       "version_major": 2,
       "version_minor": 0
      },
      "text/plain": [
       "HBox(children=(FloatProgress(value=0.0, description='Render HTML', max=1.0, style=ProgressStyle(description_wi…"
      ]
     },
     "metadata": {},
     "output_type": "display_data"
    },
    {
     "name": "stdout",
     "output_type": "stream",
     "text": [
      "\n"
     ]
    },
    {
     "data": {
      "application/vnd.jupyter.widget-view+json": {
       "model_id": "828839eb67c7460f9d0fbd4135dbc024",
       "version_major": 2,
       "version_minor": 0
      },
      "text/plain": [
       "HBox(children=(FloatProgress(value=0.0, description='Export report to file', max=1.0, style=ProgressStyle(desc…"
      ]
     },
     "metadata": {},
     "output_type": "display_data"
    },
    {
     "name": "stdout",
     "output_type": "stream",
     "text": [
      "\n"
     ]
    }
   ],
   "source": [
    "profile.to_file('output.html')"
   ]
  },
  {
   "cell_type": "code",
   "execution_count": 10,
   "metadata": {},
   "outputs": [
    {
     "name": "stdout",
     "output_type": "stream",
     "text": [
      "Collecting dtale\n",
      "  Downloading dtale-2.0.0-py2.py3-none-any.whl (11.4 MB)\n",
      "\u001b[K     |████████████████████████████████| 11.4 MB 11.2 MB/s eta 0:00:01    |█████████████████████▌          | 7.7 MB 11.2 MB/s eta 0:00:01\n",
      "\u001b[?25hRequirement already satisfied: cycler; python_version > \"3.0\" in /Users/atul595525/anaconda3/lib/python3.7/site-packages (from dtale) (0.10.0)\n",
      "Collecting scipy==1.7.3; python_version == \"3.7\"\n",
      "  Downloading scipy-1.7.3-cp37-cp37m-macosx_10_9_x86_64.whl (33.0 MB)\n",
      "\u001b[K     |████████████████████████████████| 33.0 MB 132 kB/s  eta 0:00:01\n",
      "\u001b[?25hCollecting kaleido; python_version > \"3.6\"\n",
      "  Downloading kaleido-0.2.1-py2.py3-none-macosx_10_11_x86_64.whl (85.2 MB)\n",
      "\u001b[K     |████████████████████████████████| 85.2 MB 15.6 MB/s eta 0:00:01    |█▋                              | 4.3 MB 13.0 MB/s eta 0:00:07     |████████████████████▌           | 54.6 MB 16.9 MB/s eta 0:00:02\n",
      "\u001b[?25hCollecting dash-colorscales\n",
      "  Downloading dash_colorscales-0.0.4.tar.gz (62 kB)\n",
      "\u001b[K     |████████████████████████████████| 62 kB 2.2 MB/s  eta 0:00:01\n",
      "\u001b[?25hRequirement already satisfied: packaging<=21.0; python_version == \"3.7\" in /Users/atul595525/anaconda3/lib/python3.7/site-packages (from dtale) (20.3)\n",
      "Requirement already satisfied: xlrd in /Users/atul595525/anaconda3/lib/python3.7/site-packages (from dtale) (1.2.0)\n",
      "Requirement already satisfied: missingno<=0.4.2 in /Users/atul595525/anaconda3/lib/python3.7/site-packages (from dtale) (0.4.2)\n",
      "Requirement already satisfied: pandas in /Users/atul595525/anaconda3/lib/python3.7/site-packages (from dtale) (1.0.3)\n",
      "Requirement already satisfied: matplotlib; python_version > \"3.6\" in /Users/atul595525/anaconda3/lib/python3.7/site-packages (from dtale) (3.3.2)\n",
      "Requirement already satisfied: six in /Users/atul595525/anaconda3/lib/python3.7/site-packages (from dtale) (1.14.0)\n",
      "Collecting scikit-learn==0.24.2; python_version > \"3.0\"\n",
      "  Downloading scikit_learn-0.24.2-cp37-cp37m-macosx_10_13_x86_64.whl (7.2 MB)\n",
      "\u001b[K     |████████████████████████████████| 7.2 MB 20.7 MB/s eta 0:00:01\n",
      "\u001b[?25hCollecting strsimpy\n",
      "  Downloading strsimpy-0.2.1-py3-none-any.whl (45 kB)\n",
      "\u001b[K     |████████████████████████████████| 45 kB 5.1 MB/s eta 0:00:011\n",
      "\u001b[?25hRequirement already satisfied: seaborn; python_version >= \"3.6\" in /Users/atul595525/anaconda3/lib/python3.7/site-packages (from dtale) (0.10.1)\n",
      "Requirement already satisfied: numpy; python_version >= \"3.0\" in /Users/atul595525/anaconda3/lib/python3.7/site-packages (from dtale) (1.16.4)\n",
      "Collecting squarify\n",
      "  Downloading squarify-0.4.3-py3-none-any.whl (4.3 kB)\n",
      "Collecting dash-daq\n",
      "  Downloading dash_daq-0.5.0.tar.gz (642 kB)\n",
      "\u001b[K     |████████████████████████████████| 642 kB 14.5 MB/s eta 0:00:01\n",
      "\u001b[?25hCollecting xarray; python_version >= \"3.0\"\n",
      "  Downloading xarray-0.20.2-py3-none-any.whl (845 kB)\n",
      "\u001b[K     |████████████████████████████████| 845 kB 17.0 MB/s eta 0:00:01\n",
      "\u001b[?25hCollecting ppscore; python_version >= \"3.6\"\n",
      "  Downloading ppscore-1.2.0.tar.gz (47 kB)\n",
      "\u001b[K     |████████████████████████████████| 47 kB 8.4 MB/s  eta 0:00:01\n",
      "\u001b[?25hRequirement already satisfied: openpyxl; python_version >= \"3.0\" in /Users/atul595525/anaconda3/lib/python3.7/site-packages (from dtale) (3.0.3)\n",
      "Collecting dash>=2.0.0; python_version > \"3.0\"\n",
      "  Downloading dash-2.2.0-py3-none-any.whl (8.5 MB)\n",
      "\u001b[K     |████████████████████████████████| 8.5 MB 18.3 MB/s eta 0:00:01     |█████████▎                      | 2.4 MB 18.3 MB/s eta 0:00:01     |██████████████████████████████  | 7.9 MB 18.3 MB/s eta 0:00:01\n",
      "\u001b[?25hCollecting plotly>=5.0.0; python_version >= \"3.6\"\n",
      "  Downloading plotly-5.6.0-py2.py3-none-any.whl (27.7 MB)\n",
      "\u001b[K     |████████████████████████████████| 27.7 MB 8.1 MB/s eta 0:00:011\n",
      "\u001b[?25hCollecting Flask-Compress\n",
      "  Downloading Flask_Compress-1.10.1-py3-none-any.whl (7.9 kB)\n",
      "Requirement already satisfied: requests in /Users/atul595525/anaconda3/lib/python3.7/site-packages (from dtale) (2.23.0)\n",
      "Collecting flask-ngrok; python_version > \"3.0\"\n",
      "  Downloading flask_ngrok-0.0.25-py3-none-any.whl (3.1 kB)\n",
      "Collecting statsmodels==0.12.2; python_version == \"3.7\"\n",
      "  Downloading statsmodels-0.12.2-cp37-cp37m-macosx_10_15_x86_64.whl (9.5 MB)\n",
      "\u001b[K     |████████████████████████████████| 9.5 MB 14.1 MB/s eta 0:00:01\n",
      "\u001b[?25hCollecting lz4; python_version > \"3.0\"\n",
      "  Downloading lz4-4.0.0-cp37-cp37m-macosx_10_9_x86_64.whl (90 kB)\n",
      "\u001b[K     |████████████████████████████████| 90 kB 12.8 MB/s eta 0:00:01\n",
      "\u001b[?25hRequirement already satisfied: et-xmlfile; python_version >= \"3.6\" in /Users/atul595525/anaconda3/lib/python3.7/site-packages (from dtale) (1.0.1)\n",
      "Requirement already satisfied: future>=0.14.0 in /Users/atul595525/anaconda3/lib/python3.7/site-packages (from dtale) (0.18.2)\n",
      "Requirement already satisfied: itsdangerous; python_version >= \"3.7\" in /Users/atul595525/anaconda3/lib/python3.7/site-packages (from dtale) (1.1.0)\n",
      "Requirement already satisfied: Flask; python_version >= \"3.7\" in /Users/atul595525/anaconda3/lib/python3.7/site-packages (from dtale) (1.1.2)\n",
      "Requirement already satisfied: networkx; python_version >= \"3.0\" in /Users/atul595525/anaconda3/lib/python3.7/site-packages (from dtale) (2.4)\n",
      "Collecting dash-bootstrap-components; python_version > \"3.0\"\n",
      "  Downloading dash_bootstrap_components-1.0.3-py3-none-any.whl (209 kB)\n",
      "\u001b[K     |████████████████████████████████| 209 kB 16.8 MB/s eta 0:00:01\n",
      "\u001b[?25hRequirement already satisfied: pyparsing>=2.0.2 in /Users/atul595525/anaconda3/lib/python3.7/site-packages (from packaging<=21.0; python_version == \"3.7\"->dtale) (2.4.7)\n",
      "Requirement already satisfied: python-dateutil>=2.6.1 in /Users/atul595525/anaconda3/lib/python3.7/site-packages (from pandas->dtale) (2.8.1)\n",
      "Requirement already satisfied: pytz>=2017.2 in /Users/atul595525/anaconda3/lib/python3.7/site-packages (from pandas->dtale) (2020.1)\n",
      "Requirement already satisfied: kiwisolver>=1.0.1 in /Users/atul595525/anaconda3/lib/python3.7/site-packages (from matplotlib; python_version > \"3.6\"->dtale) (1.2.0)\n",
      "Requirement already satisfied: pillow>=6.2.0 in /Users/atul595525/anaconda3/lib/python3.7/site-packages (from matplotlib; python_version > \"3.6\"->dtale) (7.1.2)\n",
      "Requirement already satisfied: certifi>=2020.06.20 in /Users/atul595525/anaconda3/lib/python3.7/site-packages (from matplotlib; python_version > \"3.6\"->dtale) (2020.6.20)\n",
      "Requirement already satisfied: joblib>=0.11 in /Users/atul595525/anaconda3/lib/python3.7/site-packages (from scikit-learn==0.24.2; python_version > \"3.0\"->dtale) (0.15.1)\n",
      "Requirement already satisfied: threadpoolctl>=2.0.0 in /Users/atul595525/anaconda3/lib/python3.7/site-packages (from scikit-learn==0.24.2; python_version > \"3.0\"->dtale) (2.1.0)\n",
      "Requirement already satisfied: importlib-metadata; python_version < \"3.8\" in /Users/atul595525/anaconda3/lib/python3.7/site-packages (from xarray; python_version >= \"3.0\"->dtale) (1.6.0)\n",
      "Requirement already satisfied: typing-extensions>=3.7; python_version < \"3.8\" in /Users/atul595525/anaconda3/lib/python3.7/site-packages (from xarray; python_version >= \"3.0\"->dtale) (3.7.4.1)\n",
      "Requirement already satisfied: jdcal in /Users/atul595525/anaconda3/lib/python3.7/site-packages (from openpyxl; python_version >= \"3.0\"->dtale) (1.4.1)\n",
      "Collecting dash-table==5.0.0\n",
      "  Downloading dash_table-5.0.0.tar.gz (3.4 kB)\n",
      "Collecting dash-core-components==2.0.0\n",
      "  Downloading dash_core_components-2.0.0.tar.gz (3.4 kB)\n",
      "Collecting dash-html-components==2.0.0\n",
      "  Downloading dash_html_components-2.0.0.tar.gz (3.8 kB)\n",
      "Collecting tenacity>=6.2.0\n",
      "  Using cached tenacity-8.0.1-py3-none-any.whl (24 kB)\n",
      "Collecting brotli\n",
      "  Downloading Brotli-1.0.9-cp37-cp37m-macosx_10_9_x86_64.whl (421 kB)\n",
      "\u001b[K     |████████████████████████████████| 421 kB 14.3 MB/s eta 0:00:01\n",
      "\u001b[?25hRequirement already satisfied: idna<3,>=2.5 in /Users/atul595525/anaconda3/lib/python3.7/site-packages (from requests->dtale) (2.9)\n",
      "Requirement already satisfied: chardet<4,>=3.0.2 in /Users/atul595525/anaconda3/lib/python3.7/site-packages (from requests->dtale) (3.0.4)\n",
      "Requirement already satisfied: urllib3!=1.25.0,!=1.25.1,<1.26,>=1.21.1 in /Users/atul595525/anaconda3/lib/python3.7/site-packages (from requests->dtale) (1.25.8)\n",
      "Requirement already satisfied: patsy>=0.5 in /Users/atul595525/anaconda3/lib/python3.7/site-packages (from statsmodels==0.12.2; python_version == \"3.7\"->dtale) (0.5.1)\n",
      "Requirement already satisfied: click>=5.1 in /Users/atul595525/anaconda3/lib/python3.7/site-packages (from Flask; python_version >= \"3.7\"->dtale) (7.1.2)\n",
      "Requirement already satisfied: Werkzeug>=0.15 in /Users/atul595525/anaconda3/lib/python3.7/site-packages (from Flask; python_version >= \"3.7\"->dtale) (1.0.1)\n",
      "Requirement already satisfied: Jinja2>=2.10.1 in /Users/atul595525/anaconda3/lib/python3.7/site-packages (from Flask; python_version >= \"3.7\"->dtale) (2.11.2)\n",
      "Requirement already satisfied: decorator>=4.3.0 in /Users/atul595525/anaconda3/lib/python3.7/site-packages (from networkx; python_version >= \"3.0\"->dtale) (4.4.2)\n",
      "Requirement already satisfied: zipp>=0.5 in /Users/atul595525/anaconda3/lib/python3.7/site-packages (from importlib-metadata; python_version < \"3.8\"->xarray; python_version >= \"3.0\"->dtale) (3.1.0)\n",
      "Requirement already satisfied: MarkupSafe>=0.23 in /Users/atul595525/anaconda3/lib/python3.7/site-packages (from Jinja2>=2.10.1->Flask; python_version >= \"3.7\"->dtale) (1.1.1)\n"
     ]
    },
    {
     "name": "stdout",
     "output_type": "stream",
     "text": [
      "Building wheels for collected packages: dash-colorscales, dash-daq, ppscore, dash-table, dash-core-components, dash-html-components\n",
      "  Building wheel for dash-colorscales (setup.py) ... \u001b[?25ldone\n",
      "\u001b[?25h  Created wheel for dash-colorscales: filename=dash_colorscales-0.0.4-py3-none-any.whl size=62597 sha256=e7b9a9adc8cc563193ff6e90554f919d94e51bc0fc2941a5851dd1701d714b51\n",
      "  Stored in directory: /Users/atul595525/Library/Caches/pip/wheels/2f/22/7e/183ba2af565e3eb955021fbb4fe8fe4a6b1ed8ae3e5c03236a\n",
      "  Building wheel for dash-daq (setup.py) ... \u001b[?25ldone\n",
      "\u001b[?25h  Created wheel for dash-daq: filename=dash_daq-0.5.0-py3-none-any.whl size=669702 sha256=f7ac325b448b13b4c5970b964bec8af196e7f19937f678f5adc550f510415c12\n",
      "  Stored in directory: /Users/atul595525/Library/Caches/pip/wheels/fe/54/53/a8d448db5592874db4313240571ca2c069e55f6a6b29bf5847\n",
      "  Building wheel for ppscore (setup.py) ... \u001b[?25ldone\n",
      "\u001b[?25h  Created wheel for ppscore: filename=ppscore-1.2.0-py2.py3-none-any.whl size=13049 sha256=41042e11edf4f719e9ece1b6b02f02ed271d3925c606f7f47bd584f0b36b733e\n",
      "  Stored in directory: /Users/atul595525/Library/Caches/pip/wheels/d2/3c/58/2ff786414b21713edc6f4fdb54fdee89ac37bca5edd1f60634\n",
      "  Building wheel for dash-table (setup.py) ... \u001b[?25ldone\n",
      "\u001b[?25h  Created wheel for dash-table: filename=dash_table-5.0.0-py3-none-any.whl size=3896 sha256=e7987d0d18d1b0b92086c2dd1484511ae5d5e5654661a8a3079f5de7158df59b\n",
      "  Stored in directory: /Users/atul595525/Library/Caches/pip/wheels/85/5d/4e/7c276b57992951dbe770bf5caad6448d0539c510663aefd2e2\n",
      "  Building wheel for dash-core-components (setup.py) ... \u001b[?25ldone\n",
      "\u001b[?25h  Created wheel for dash-core-components: filename=dash_core_components-2.0.0-py3-none-any.whl size=3801 sha256=40a5447bf21b675969990476c6d619f9989109e998473d2a5df2a9be06010e11\n",
      "  Stored in directory: /Users/atul595525/Library/Caches/pip/wheels/00/f9/c7/1a6437d794ed753ea9bc9079e761d4fc803a1f1f5d3697b9ec\n",
      "  Building wheel for dash-html-components (setup.py) ... \u001b[?25ldone\n",
      "\u001b[?25h  Created wheel for dash-html-components: filename=dash_html_components-2.0.0-py3-none-any.whl size=4069 sha256=7110c3e857ccb87346551a79b2ca2a6169f7917075c92eeab98519d03718743d\n",
      "  Stored in directory: /Users/atul595525/Library/Caches/pip/wheels/ec/6b/81/05aceabd8b27f724e2c96784016287cc1bfbc349ebfda451de\n",
      "Successfully built dash-colorscales dash-daq ppscore dash-table dash-core-components dash-html-components\n",
      "\u001b[31mERROR: tensorflow 2.2.0 has requirement scipy==1.4.1; python_version >= \"3\", but you'll have scipy 1.7.3 which is incompatible.\u001b[0m\n",
      "\u001b[31mERROR: scipy 1.7.3 has requirement numpy<1.23.0,>=1.16.5, but you'll have numpy 1.16.4 which is incompatible.\u001b[0m\n",
      "\u001b[31mERROR: xarray 0.20.2 has requirement numpy>=1.18, but you'll have numpy 1.16.4 which is incompatible.\u001b[0m\n",
      "\u001b[31mERROR: xarray 0.20.2 has requirement pandas>=1.1, but you'll have pandas 1.0.3 which is incompatible.\u001b[0m\n",
      "Installing collected packages: scipy, kaleido, dash-colorscales, scikit-learn, strsimpy, squarify, dash-table, tenacity, plotly, brotli, Flask-Compress, dash-core-components, dash-html-components, dash, dash-daq, xarray, ppscore, flask-ngrok, statsmodels, lz4, dash-bootstrap-components, dtale\n",
      "  Attempting uninstall: scipy\n",
      "    Found existing installation: scipy 1.4.1\n",
      "    Uninstalling scipy-1.4.1:\n",
      "      Successfully uninstalled scipy-1.4.1\n",
      "  Attempting uninstall: scikit-learn\n",
      "    Found existing installation: scikit-learn 0.23.2\n",
      "    Uninstalling scikit-learn-0.23.2:\n",
      "      Successfully uninstalled scikit-learn-0.23.2\n",
      "  Attempting uninstall: plotly\n",
      "    Found existing installation: plotly 4.11.0\n",
      "    Uninstalling plotly-4.11.0:\n",
      "      Successfully uninstalled plotly-4.11.0\n",
      "  Attempting uninstall: statsmodels\n",
      "    Found existing installation: statsmodels 0.11.1\n",
      "    Uninstalling statsmodels-0.11.1:\n",
      "      Successfully uninstalled statsmodels-0.11.1\n",
      "Successfully installed Flask-Compress-1.10.1 brotli-1.0.9 dash-2.2.0 dash-bootstrap-components-1.0.3 dash-colorscales-0.0.4 dash-core-components-2.0.0 dash-daq-0.5.0 dash-html-components-2.0.0 dash-table-5.0.0 dtale-2.0.0 flask-ngrok-0.0.25 kaleido-0.2.1 lz4-4.0.0 plotly-5.6.0 ppscore-1.2.0 scikit-learn-0.24.2 scipy-1.7.3 squarify-0.4.3 statsmodels-0.12.2 strsimpy-0.2.1 tenacity-8.0.1 xarray-0.20.2\n"
     ]
    }
   ],
   "source": [
    "!pip install dtale"
   ]
  },
  {
   "cell_type": "code",
   "execution_count": 11,
   "metadata": {},
   "outputs": [],
   "source": [
    "import pandas as pd\n",
    "import seaborn as sns"
   ]
  },
  {
   "cell_type": "code",
   "execution_count": 12,
   "metadata": {},
   "outputs": [
    {
     "data": {
      "text/html": [
       "<div>\n",
       "<style scoped>\n",
       "    .dataframe tbody tr th:only-of-type {\n",
       "        vertical-align: middle;\n",
       "    }\n",
       "\n",
       "    .dataframe tbody tr th {\n",
       "        vertical-align: top;\n",
       "    }\n",
       "\n",
       "    .dataframe thead th {\n",
       "        text-align: right;\n",
       "    }\n",
       "</style>\n",
       "<table border=\"1\" class=\"dataframe\">\n",
       "  <thead>\n",
       "    <tr style=\"text-align: right;\">\n",
       "      <th></th>\n",
       "      <th>survived</th>\n",
       "      <th>pclass</th>\n",
       "      <th>sex</th>\n",
       "      <th>age</th>\n",
       "      <th>sibsp</th>\n",
       "      <th>parch</th>\n",
       "      <th>fare</th>\n",
       "      <th>embarked</th>\n",
       "      <th>class</th>\n",
       "      <th>who</th>\n",
       "      <th>adult_male</th>\n",
       "      <th>deck</th>\n",
       "      <th>embark_town</th>\n",
       "      <th>alive</th>\n",
       "      <th>alone</th>\n",
       "    </tr>\n",
       "  </thead>\n",
       "  <tbody>\n",
       "    <tr>\n",
       "      <th>0</th>\n",
       "      <td>0</td>\n",
       "      <td>3</td>\n",
       "      <td>male</td>\n",
       "      <td>22.0</td>\n",
       "      <td>1</td>\n",
       "      <td>0</td>\n",
       "      <td>7.2500</td>\n",
       "      <td>S</td>\n",
       "      <td>Third</td>\n",
       "      <td>man</td>\n",
       "      <td>True</td>\n",
       "      <td>NaN</td>\n",
       "      <td>Southampton</td>\n",
       "      <td>no</td>\n",
       "      <td>False</td>\n",
       "    </tr>\n",
       "    <tr>\n",
       "      <th>1</th>\n",
       "      <td>1</td>\n",
       "      <td>1</td>\n",
       "      <td>female</td>\n",
       "      <td>38.0</td>\n",
       "      <td>1</td>\n",
       "      <td>0</td>\n",
       "      <td>71.2833</td>\n",
       "      <td>C</td>\n",
       "      <td>First</td>\n",
       "      <td>woman</td>\n",
       "      <td>False</td>\n",
       "      <td>C</td>\n",
       "      <td>Cherbourg</td>\n",
       "      <td>yes</td>\n",
       "      <td>False</td>\n",
       "    </tr>\n",
       "    <tr>\n",
       "      <th>2</th>\n",
       "      <td>1</td>\n",
       "      <td>3</td>\n",
       "      <td>female</td>\n",
       "      <td>26.0</td>\n",
       "      <td>0</td>\n",
       "      <td>0</td>\n",
       "      <td>7.9250</td>\n",
       "      <td>S</td>\n",
       "      <td>Third</td>\n",
       "      <td>woman</td>\n",
       "      <td>False</td>\n",
       "      <td>NaN</td>\n",
       "      <td>Southampton</td>\n",
       "      <td>yes</td>\n",
       "      <td>True</td>\n",
       "    </tr>\n",
       "    <tr>\n",
       "      <th>3</th>\n",
       "      <td>1</td>\n",
       "      <td>1</td>\n",
       "      <td>female</td>\n",
       "      <td>35.0</td>\n",
       "      <td>1</td>\n",
       "      <td>0</td>\n",
       "      <td>53.1000</td>\n",
       "      <td>S</td>\n",
       "      <td>First</td>\n",
       "      <td>woman</td>\n",
       "      <td>False</td>\n",
       "      <td>C</td>\n",
       "      <td>Southampton</td>\n",
       "      <td>yes</td>\n",
       "      <td>False</td>\n",
       "    </tr>\n",
       "    <tr>\n",
       "      <th>4</th>\n",
       "      <td>0</td>\n",
       "      <td>3</td>\n",
       "      <td>male</td>\n",
       "      <td>35.0</td>\n",
       "      <td>0</td>\n",
       "      <td>0</td>\n",
       "      <td>8.0500</td>\n",
       "      <td>S</td>\n",
       "      <td>Third</td>\n",
       "      <td>man</td>\n",
       "      <td>True</td>\n",
       "      <td>NaN</td>\n",
       "      <td>Southampton</td>\n",
       "      <td>no</td>\n",
       "      <td>True</td>\n",
       "    </tr>\n",
       "  </tbody>\n",
       "</table>\n",
       "</div>"
      ],
      "text/plain": [
       "   survived  pclass     sex   age  sibsp  parch     fare embarked  class  \\\n",
       "0         0       3    male  22.0      1      0   7.2500        S  Third   \n",
       "1         1       1  female  38.0      1      0  71.2833        C  First   \n",
       "2         1       3  female  26.0      0      0   7.9250        S  Third   \n",
       "3         1       1  female  35.0      1      0  53.1000        S  First   \n",
       "4         0       3    male  35.0      0      0   8.0500        S  Third   \n",
       "\n",
       "     who  adult_male deck  embark_town alive  alone  \n",
       "0    man        True  NaN  Southampton    no  False  \n",
       "1  woman       False    C    Cherbourg   yes  False  \n",
       "2  woman       False  NaN  Southampton   yes   True  \n",
       "3  woman       False    C  Southampton   yes  False  \n",
       "4    man        True  NaN  Southampton    no   True  "
      ]
     },
     "execution_count": 12,
     "metadata": {},
     "output_type": "execute_result"
    }
   ],
   "source": [
    "df = sns.load_dataset('titanic')\n",
    "\n",
    "df.head()"
   ]
  },
  {
   "cell_type": "code",
   "execution_count": 14,
   "metadata": {},
   "outputs": [
    {
     "ename": "ImportError",
     "evalue": "cannot import name 'float_factorial' from 'scipy._lib._util' (/Users/atul595525/anaconda3/lib/python3.7/site-packages/scipy/_lib/_util.py)",
     "output_type": "error",
     "traceback": [
      "\u001b[0;31m---------------------------------------------------------------------------\u001b[0m",
      "\u001b[0;31mImportError\u001b[0m                               Traceback (most recent call last)",
      "\u001b[0;32m<ipython-input-14-6bd5f76c0b0b>\u001b[0m in \u001b[0;36m<module>\u001b[0;34m\u001b[0m\n\u001b[0;32m----> 1\u001b[0;31m \u001b[0;32mimport\u001b[0m \u001b[0mdtale\u001b[0m\u001b[0;34m\u001b[0m\u001b[0;34m\u001b[0m\u001b[0m\n\u001b[0m\u001b[1;32m      2\u001b[0m \u001b[0;34m\u001b[0m\u001b[0m\n\u001b[1;32m      3\u001b[0m \u001b[0mdtale\u001b[0m\u001b[0;34m.\u001b[0m\u001b[0mshow\u001b[0m\u001b[0;34m(\u001b[0m\u001b[0mdf\u001b[0m\u001b[0;34m)\u001b[0m\u001b[0;34m\u001b[0m\u001b[0;34m\u001b[0m\u001b[0m\n",
      "\u001b[0;32m~/anaconda3/lib/python3.7/site-packages/dtale/__init__.py\u001b[0m in \u001b[0;36m<module>\u001b[0;34m\u001b[0m\n\u001b[1;32m      8\u001b[0m \u001b[0;34m\u001b[0m\u001b[0m\n\u001b[1;32m      9\u001b[0m \u001b[0;31m# flake8: NOQA\u001b[0m\u001b[0;34m\u001b[0m\u001b[0;34m\u001b[0m\u001b[0;34m\u001b[0m\u001b[0m\n\u001b[0;32m---> 10\u001b[0;31m \u001b[0;32mfrom\u001b[0m \u001b[0mdtale\u001b[0m\u001b[0;34m.\u001b[0m\u001b[0mapp\u001b[0m \u001b[0;32mimport\u001b[0m \u001b[0mshow\u001b[0m\u001b[0;34m,\u001b[0m \u001b[0mget_instance\u001b[0m\u001b[0;34m,\u001b[0m \u001b[0minstances\u001b[0m\u001b[0;34m,\u001b[0m \u001b[0moffline_chart\u001b[0m  \u001b[0;31m# isort:skip\u001b[0m\u001b[0;34m\u001b[0m\u001b[0;34m\u001b[0m\u001b[0m\n\u001b[0m\u001b[1;32m     11\u001b[0m \u001b[0;32mfrom\u001b[0m \u001b[0mdtale\u001b[0m\u001b[0;34m.\u001b[0m\u001b[0mcli\u001b[0m\u001b[0;34m.\u001b[0m\u001b[0mloaders\u001b[0m \u001b[0;32mimport\u001b[0m \u001b[0mLOADERS\u001b[0m  \u001b[0;31m# isort:skip\u001b[0m\u001b[0;34m\u001b[0m\u001b[0;34m\u001b[0m\u001b[0m\n\u001b[1;32m     12\u001b[0m \u001b[0;34m\u001b[0m\u001b[0m\n",
      "\u001b[0;32m~/anaconda3/lib/python3.7/site-packages/dtale/app.py\u001b[0m in \u001b[0;36m<module>\u001b[0;34m\u001b[0m\n\u001b[1;32m     39\u001b[0m     \u001b[0mrunning_with_flask_debug\u001b[0m\u001b[0;34m,\u001b[0m\u001b[0;34m\u001b[0m\u001b[0;34m\u001b[0m\u001b[0m\n\u001b[1;32m     40\u001b[0m )\n\u001b[0;32m---> 41\u001b[0;31m \u001b[0;32mfrom\u001b[0m \u001b[0mdtale\u001b[0m\u001b[0;34m.\u001b[0m\u001b[0mviews\u001b[0m \u001b[0;32mimport\u001b[0m \u001b[0mDtaleData\u001b[0m\u001b[0;34m,\u001b[0m \u001b[0mhead_endpoint\u001b[0m\u001b[0;34m,\u001b[0m \u001b[0mis_up\u001b[0m\u001b[0;34m,\u001b[0m \u001b[0mkill\u001b[0m\u001b[0;34m,\u001b[0m \u001b[0mstartup\u001b[0m\u001b[0;34m\u001b[0m\u001b[0;34m\u001b[0m\u001b[0m\n\u001b[0m\u001b[1;32m     42\u001b[0m \u001b[0;34m\u001b[0m\u001b[0m\n\u001b[1;32m     43\u001b[0m \u001b[0;32mif\u001b[0m \u001b[0mPY3\u001b[0m\u001b[0;34m:\u001b[0m\u001b[0;34m\u001b[0m\u001b[0;34m\u001b[0m\u001b[0m\n",
      "\u001b[0;32m~/anaconda3/lib/python3.7/site-packages/dtale/views.py\u001b[0m in \u001b[0;36m<module>\u001b[0;34m\u001b[0m\n\u001b[1;32m     67\u001b[0m     \u001b[0mrun_query\u001b[0m\u001b[0;34m,\u001b[0m\u001b[0;34m\u001b[0m\u001b[0;34m\u001b[0m\u001b[0m\n\u001b[1;32m     68\u001b[0m )\n\u001b[0;32m---> 69\u001b[0;31m \u001b[0;32mfrom\u001b[0m \u001b[0mdtale\u001b[0m\u001b[0;34m.\u001b[0m\u001b[0mtimeseries_analysis\u001b[0m \u001b[0;32mimport\u001b[0m \u001b[0mTimeseriesAnalysis\u001b[0m\u001b[0;34m\u001b[0m\u001b[0;34m\u001b[0m\u001b[0m\n\u001b[0m\u001b[1;32m     70\u001b[0m from dtale.utils import (\n\u001b[1;32m     71\u001b[0m     \u001b[0mDuplicateDataError\u001b[0m\u001b[0;34m,\u001b[0m\u001b[0;34m\u001b[0m\u001b[0;34m\u001b[0m\u001b[0m\n",
      "\u001b[0;32m~/anaconda3/lib/python3.7/site-packages/dtale/timeseries_analysis.py\u001b[0m in \u001b[0;36m<module>\u001b[0;34m\u001b[0m\n\u001b[1;32m      1\u001b[0m \u001b[0;32mimport\u001b[0m \u001b[0mpandas\u001b[0m \u001b[0;32mas\u001b[0m \u001b[0mpd\u001b[0m\u001b[0;34m\u001b[0m\u001b[0;34m\u001b[0m\u001b[0m\n\u001b[1;32m      2\u001b[0m \u001b[0;32mfrom\u001b[0m \u001b[0msix\u001b[0m \u001b[0;32mimport\u001b[0m \u001b[0mPY3\u001b[0m\u001b[0;34m\u001b[0m\u001b[0;34m\u001b[0m\u001b[0m\n\u001b[0;32m----> 3\u001b[0;31m \u001b[0;32mfrom\u001b[0m \u001b[0mstatsmodels\u001b[0m\u001b[0;34m.\u001b[0m\u001b[0mtsa\u001b[0m\u001b[0;34m.\u001b[0m\u001b[0mfilters\u001b[0m\u001b[0;34m.\u001b[0m\u001b[0mbk_filter\u001b[0m \u001b[0;32mimport\u001b[0m \u001b[0mbkfilter\u001b[0m\u001b[0;34m\u001b[0m\u001b[0;34m\u001b[0m\u001b[0m\n\u001b[0m\u001b[1;32m      4\u001b[0m \u001b[0;32mfrom\u001b[0m \u001b[0mstatsmodels\u001b[0m\u001b[0;34m.\u001b[0m\u001b[0mtsa\u001b[0m\u001b[0;34m.\u001b[0m\u001b[0mfilters\u001b[0m\u001b[0;34m.\u001b[0m\u001b[0mcf_filter\u001b[0m \u001b[0;32mimport\u001b[0m \u001b[0mcffilter\u001b[0m\u001b[0;34m\u001b[0m\u001b[0;34m\u001b[0m\u001b[0m\n\u001b[1;32m      5\u001b[0m \u001b[0;32mfrom\u001b[0m \u001b[0mstatsmodels\u001b[0m\u001b[0;34m.\u001b[0m\u001b[0mtsa\u001b[0m\u001b[0;34m.\u001b[0m\u001b[0mfilters\u001b[0m\u001b[0;34m.\u001b[0m\u001b[0mhp_filter\u001b[0m \u001b[0;32mimport\u001b[0m \u001b[0mhpfilter\u001b[0m\u001b[0;34m\u001b[0m\u001b[0;34m\u001b[0m\u001b[0m\n",
      "\u001b[0;32m~/anaconda3/lib/python3.7/site-packages/statsmodels/tsa/filters/bk_filter.py\u001b[0m in \u001b[0;36m<module>\u001b[0;34m\u001b[0m\n\u001b[1;32m      1\u001b[0m \u001b[0;34m\u001b[0m\u001b[0m\n\u001b[1;32m      2\u001b[0m \u001b[0;32mimport\u001b[0m \u001b[0mnumpy\u001b[0m \u001b[0;32mas\u001b[0m \u001b[0mnp\u001b[0m\u001b[0;34m\u001b[0m\u001b[0;34m\u001b[0m\u001b[0m\n\u001b[0;32m----> 3\u001b[0;31m \u001b[0;32mfrom\u001b[0m \u001b[0mscipy\u001b[0m\u001b[0;34m.\u001b[0m\u001b[0msignal\u001b[0m \u001b[0;32mimport\u001b[0m \u001b[0mfftconvolve\u001b[0m\u001b[0;34m\u001b[0m\u001b[0;34m\u001b[0m\u001b[0m\n\u001b[0m\u001b[1;32m      4\u001b[0m \u001b[0;34m\u001b[0m\u001b[0m\n\u001b[1;32m      5\u001b[0m \u001b[0;32mfrom\u001b[0m \u001b[0mstatsmodels\u001b[0m\u001b[0;34m.\u001b[0m\u001b[0mtools\u001b[0m\u001b[0;34m.\u001b[0m\u001b[0mvalidation\u001b[0m \u001b[0;32mimport\u001b[0m \u001b[0marray_like\u001b[0m\u001b[0;34m,\u001b[0m \u001b[0mPandasWrapper\u001b[0m\u001b[0;34m\u001b[0m\u001b[0;34m\u001b[0m\u001b[0m\n",
      "\u001b[0;32m~/anaconda3/lib/python3.7/site-packages/scipy/signal/__init__.py\u001b[0m in \u001b[0;36m<module>\u001b[0;34m\u001b[0m\n\u001b[1;32m    299\u001b[0m \u001b[0;32mfrom\u001b[0m \u001b[0;34m.\u001b[0m\u001b[0mspline\u001b[0m \u001b[0;32mimport\u001b[0m \u001b[0;34m*\u001b[0m\u001b[0;34m\u001b[0m\u001b[0;34m\u001b[0m\u001b[0m\n\u001b[1;32m    300\u001b[0m \u001b[0;34m\u001b[0m\u001b[0m\n\u001b[0;32m--> 301\u001b[0;31m \u001b[0;32mfrom\u001b[0m \u001b[0;34m.\u001b[0m\u001b[0mbsplines\u001b[0m \u001b[0;32mimport\u001b[0m \u001b[0;34m*\u001b[0m\u001b[0;34m\u001b[0m\u001b[0;34m\u001b[0m\u001b[0m\n\u001b[0m\u001b[1;32m    302\u001b[0m \u001b[0;32mfrom\u001b[0m \u001b[0;34m.\u001b[0m\u001b[0mfilter_design\u001b[0m \u001b[0;32mimport\u001b[0m \u001b[0;34m*\u001b[0m\u001b[0;34m\u001b[0m\u001b[0;34m\u001b[0m\u001b[0m\n\u001b[1;32m    303\u001b[0m \u001b[0;32mfrom\u001b[0m \u001b[0;34m.\u001b[0m\u001b[0mfir_filter_design\u001b[0m \u001b[0;32mimport\u001b[0m \u001b[0;34m*\u001b[0m\u001b[0;34m\u001b[0m\u001b[0;34m\u001b[0m\u001b[0m\n",
      "\u001b[0;32m~/anaconda3/lib/python3.7/site-packages/scipy/signal/bsplines.py\u001b[0m in \u001b[0;36m<module>\u001b[0;34m\u001b[0m\n\u001b[1;32m      8\u001b[0m \u001b[0;34m\u001b[0m\u001b[0m\n\u001b[1;32m      9\u001b[0m \u001b[0;32mfrom\u001b[0m \u001b[0mscipy\u001b[0m\u001b[0;34m.\u001b[0m\u001b[0mspecial\u001b[0m \u001b[0;32mimport\u001b[0m \u001b[0mcomb\u001b[0m\u001b[0;34m\u001b[0m\u001b[0;34m\u001b[0m\u001b[0m\n\u001b[0;32m---> 10\u001b[0;31m \u001b[0;32mfrom\u001b[0m \u001b[0mscipy\u001b[0m\u001b[0;34m.\u001b[0m\u001b[0m_lib\u001b[0m\u001b[0;34m.\u001b[0m\u001b[0m_util\u001b[0m \u001b[0;32mimport\u001b[0m \u001b[0mfloat_factorial\u001b[0m\u001b[0;34m\u001b[0m\u001b[0;34m\u001b[0m\u001b[0m\n\u001b[0m\u001b[1;32m     11\u001b[0m \u001b[0;34m\u001b[0m\u001b[0m\n\u001b[1;32m     12\u001b[0m __all__ = ['spline_filter', 'bspline', 'gauss_spline', 'cubic', 'quadratic',\n",
      "\u001b[0;31mImportError\u001b[0m: cannot import name 'float_factorial' from 'scipy._lib._util' (/Users/atul595525/anaconda3/lib/python3.7/site-packages/scipy/_lib/_util.py)"
     ]
    }
   ],
   "source": [
    "import dtale\n",
    "\n",
    "dtale.show(df)"
   ]
  },
  {
   "cell_type": "code",
   "execution_count": 15,
   "metadata": {},
   "outputs": [
    {
     "name": "stdout",
     "output_type": "stream",
     "text": [
      "Collecting sweetviz\n",
      "  Downloading sweetviz-2.1.3-py3-none-any.whl (15.1 MB)\n",
      "\u001b[K     |████████████████████████████████| 15.1 MB 14.3 MB/s eta 0:00:01\n",
      "\u001b[?25hRequirement already satisfied: tqdm>=4.43.0 in /Users/atul595525/anaconda3/lib/python3.7/site-packages (from sweetviz) (4.46.0)\n",
      "Requirement already satisfied: pandas!=1.0.0,!=1.0.1,!=1.0.2,>=0.25.3 in /Users/atul595525/anaconda3/lib/python3.7/site-packages (from sweetviz) (1.0.3)\n",
      "Requirement already satisfied: scipy>=1.3.2 in /Users/atul595525/anaconda3/lib/python3.7/site-packages (from sweetviz) (1.7.3)\n",
      "Collecting importlib-resources>=1.2.0\n",
      "  Downloading importlib_resources-5.4.0-py3-none-any.whl (28 kB)\n",
      "Requirement already satisfied: numpy>=1.16.0 in /Users/atul595525/anaconda3/lib/python3.7/site-packages (from sweetviz) (1.16.4)\n",
      "Requirement already satisfied: matplotlib>=3.1.3 in /Users/atul595525/anaconda3/lib/python3.7/site-packages (from sweetviz) (3.3.2)\n",
      "Requirement already satisfied: jinja2>=2.11.1 in /Users/atul595525/anaconda3/lib/python3.7/site-packages (from sweetviz) (2.11.2)\n",
      "Requirement already satisfied: python-dateutil>=2.6.1 in /Users/atul595525/anaconda3/lib/python3.7/site-packages (from pandas!=1.0.0,!=1.0.1,!=1.0.2,>=0.25.3->sweetviz) (2.8.1)\n",
      "Requirement already satisfied: pytz>=2017.2 in /Users/atul595525/anaconda3/lib/python3.7/site-packages (from pandas!=1.0.0,!=1.0.1,!=1.0.2,>=0.25.3->sweetviz) (2020.1)\n",
      "Requirement already satisfied: zipp>=3.1.0; python_version < \"3.10\" in /Users/atul595525/anaconda3/lib/python3.7/site-packages (from importlib-resources>=1.2.0->sweetviz) (3.1.0)\n",
      "Requirement already satisfied: cycler>=0.10 in /Users/atul595525/anaconda3/lib/python3.7/site-packages (from matplotlib>=3.1.3->sweetviz) (0.10.0)\n",
      "Requirement already satisfied: pyparsing!=2.0.4,!=2.1.2,!=2.1.6,>=2.0.3 in /Users/atul595525/anaconda3/lib/python3.7/site-packages (from matplotlib>=3.1.3->sweetviz) (2.4.7)\n",
      "Requirement already satisfied: pillow>=6.2.0 in /Users/atul595525/anaconda3/lib/python3.7/site-packages (from matplotlib>=3.1.3->sweetviz) (7.1.2)\n",
      "Requirement already satisfied: kiwisolver>=1.0.1 in /Users/atul595525/anaconda3/lib/python3.7/site-packages (from matplotlib>=3.1.3->sweetviz) (1.2.0)\n",
      "Requirement already satisfied: certifi>=2020.06.20 in /Users/atul595525/anaconda3/lib/python3.7/site-packages (from matplotlib>=3.1.3->sweetviz) (2020.6.20)\n",
      "Requirement already satisfied: MarkupSafe>=0.23 in /Users/atul595525/anaconda3/lib/python3.7/site-packages (from jinja2>=2.11.1->sweetviz) (1.1.1)\n",
      "Requirement already satisfied: six>=1.5 in /Users/atul595525/anaconda3/lib/python3.7/site-packages (from python-dateutil>=2.6.1->pandas!=1.0.0,!=1.0.1,!=1.0.2,>=0.25.3->sweetviz) (1.14.0)\n",
      "Installing collected packages: importlib-resources, sweetviz\n",
      "Successfully installed importlib-resources-5.4.0 sweetviz-2.1.3\n"
     ]
    }
   ],
   "source": [
    "!pip install sweetviz"
   ]
  },
  {
   "cell_type": "code",
   "execution_count": 16,
   "metadata": {},
   "outputs": [
    {
     "data": {
      "application/vnd.jupyter.widget-view+json": {
       "model_id": "a26f5cfcd5c84c119c3594168911df96",
       "version_major": 2,
       "version_minor": 0
      },
      "text/plain": [
       "HBox(children=(FloatProgress(value=0.0, layout=Layout(flex='2'), max=16.0), HTML(value='')), layout=Layout(dis…"
      ]
     },
     "metadata": {},
     "output_type": "display_data"
    },
    {
     "name": "stdout",
     "output_type": "stream",
     "text": [
      "\n"
     ]
    },
    {
     "data": {
      "text/plain": [
       "<sweetviz.dataframe_report.DataframeReport at 0x7fd65fdf9400>"
      ]
     },
     "execution_count": 16,
     "metadata": {},
     "output_type": "execute_result"
    }
   ],
   "source": [
    "import sweetviz as sv\n",
    "\n",
    "sv.analyze(df)"
   ]
  },
  {
   "cell_type": "code",
   "execution_count": 18,
   "metadata": {},
   "outputs": [
    {
     "data": {
      "application/vnd.jupyter.widget-view+json": {
       "model_id": "64afeb7269b94e549a72cc5cccc04d95",
       "version_major": 2,
       "version_minor": 0
      },
      "text/plain": [
       "HBox(children=(FloatProgress(value=0.0, layout=Layout(flex='2'), max=16.0), HTML(value='')), layout=Layout(dis…"
      ]
     },
     "metadata": {},
     "output_type": "display_data"
    },
    {
     "name": "stdout",
     "output_type": "stream",
     "text": [
      "\n",
      "Report newreport.html was generated! NOTEBOOK/COLAB USERS: the web browser MAY not pop up, regardless, the report IS saved in your notebook/colab files.\n"
     ]
    }
   ],
   "source": [
    "report = sv.analyze(df)\n",
    "report.show_html('newreport.html')"
   ]
  },
  {
   "cell_type": "code",
   "execution_count": 19,
   "metadata": {},
   "outputs": [
    {
     "name": "stdout",
     "output_type": "stream",
     "text": [
      "Collecting dataprep\n",
      "  Downloading dataprep-0.4.2-py3-none-any.whl (3.7 MB)\n",
      "\u001b[K     |████████████████████████████████| 3.7 MB 2.2 MB/s eta 0:00:01     |█▉                              | 215 kB 2.2 MB/s eta 0:00:02\n",
      "\u001b[?25hCollecting dask[array,dataframe,delayed]<2022.0,>=2021.11\n",
      "  Downloading dask-2021.12.0-py3-none-any.whl (1.0 MB)\n",
      "\u001b[K     |████████████████████████████████| 1.0 MB 13.1 MB/s eta 0:00:01\n",
      "\u001b[?25hCollecting python-stdnum<2.0,>=1.16\n",
      "  Downloading python_stdnum-1.17-py2.py3-none-any.whl (943 kB)\n",
      "\u001b[K     |████████████████████████████████| 943 kB 15.7 MB/s eta 0:00:01\n",
      "\u001b[?25hCollecting regex<2022.0.0,>=2021.8.3\n",
      "  Downloading regex-2021.11.10-cp37-cp37m-macosx_10_9_x86_64.whl (288 kB)\n",
      "\u001b[K     |████████████████████████████████| 288 kB 14.4 MB/s eta 0:00:01\n",
      "\u001b[?25hCollecting jsonpath-ng<2.0,>=1.5\n",
      "  Downloading jsonpath_ng-1.5.3-py3-none-any.whl (29 kB)\n",
      "Requirement already satisfied: pydantic<2.0,>=1.6 in /Users/atul595525/anaconda3/lib/python3.7/site-packages (from dataprep) (1.7.2)\n",
      "Collecting aiohttp<4.0,>=3.6\n",
      "  Downloading aiohttp-3.8.1-cp37-cp37m-macosx_10_9_x86_64.whl (570 kB)\n",
      "\u001b[K     |████████████████████████████████| 570 kB 16.5 MB/s eta 0:00:01\n",
      "\u001b[?25hCollecting jinja2<4,>=3\n",
      "  Downloading Jinja2-3.0.3-py3-none-any.whl (133 kB)\n",
      "\u001b[K     |████████████████████████████████| 133 kB 8.4 MB/s eta 0:00:01\n",
      "\u001b[?25hRequirement already satisfied: scipy<2,>=1 in /Users/atul595525/anaconda3/lib/python3.7/site-packages (from dataprep) (1.7.3)\n",
      "Collecting nltk<4.0.0,>=3.6.7\n",
      "  Downloading nltk-3.7-py3-none-any.whl (1.5 MB)\n",
      "\u001b[K     |████████████████████████████████| 1.5 MB 43.2 MB/s eta 0:00:01     |███▎                            | 153 kB 43.2 MB/s eta 0:00:01\n",
      "\u001b[?25hCollecting metaphone<0.7,>=0.6\n",
      "  Downloading Metaphone-0.6.tar.gz (14 kB)\n",
      "Collecting pandas<2.0,>=1.1\n",
      "  Downloading pandas-1.3.5-cp37-cp37m-macosx_10_9_x86_64.whl (11.0 MB)\n",
      "\u001b[K     |████████████████████████████████| 11.0 MB 21.3 MB/s eta 0:00:01    |████████▊                       | 3.0 MB 21.3 MB/s eta 0:00:01     |██████████████████████▋         | 7.8 MB 21.3 MB/s eta 0:00:01\n",
      "\u001b[?25hRequirement already satisfied: ipywidgets<8.0,>=7.5 in /Users/atul595525/anaconda3/lib/python3.7/site-packages (from dataprep) (7.5.1)\n",
      "Collecting flask<3,>=2\n",
      "  Downloading Flask-2.0.3-py3-none-any.whl (95 kB)\n",
      "\u001b[K     |████████████████████████████████| 95 kB 5.9 MB/s  eta 0:00:01\n",
      "\u001b[?25hCollecting varname<0.9.0,>=0.8.1\n",
      "  Downloading varname-0.8.1-py3-none-any.whl (20 kB)\n",
      "Collecting levenshtein<0.17,>=0.16\n",
      "  Downloading Levenshtein-0.16.0-cp37-cp37m-macosx_10_9_x86_64.whl (92 kB)\n",
      "\u001b[K     |████████████████████████████████| 92 kB 1.0 MB/s  eta 0:00:01\n",
      "\u001b[?25hCollecting tqdm<5.0,>=4.48\n",
      "  Downloading tqdm-4.62.3-py2.py3-none-any.whl (76 kB)\n",
      "\u001b[K     |████████████████████████████████| 76 kB 5.0 MB/s eta 0:00:011\n",
      "\u001b[?25hCollecting python-crfsuite<0.10.0,>=0.9.7\n",
      "  Downloading python_crfsuite-0.9.7-cp37-cp37m-macosx_10_13_x86_64.whl (186 kB)\n",
      "\u001b[K     |████████████████████████████████| 186 kB 14.7 MB/s eta 0:00:01\n",
      "\u001b[?25hCollecting numpy<2.0,>=1.21\n",
      "  Downloading numpy-1.21.5-cp37-cp37m-macosx_10_9_x86_64.whl (16.9 MB)\n",
      "\u001b[K     |████████████████████████████████| 16.9 MB 8.7 MB/s eta 0:00:01\n",
      "\u001b[?25hCollecting wordcloud<2.0,>=1.8\n",
      "  Downloading wordcloud-1.8.1.tar.gz (220 kB)\n",
      "\u001b[K     |████████████████████████████████| 220 kB 18.2 MB/s eta 0:00:01\n",
      "\u001b[?25hCollecting flask_cors<4.0.0,>=3.0.10\n",
      "  Downloading Flask_Cors-3.0.10-py2.py3-none-any.whl (14 kB)\n",
      "Requirement already satisfied: bokeh<3,>=2 in /Users/atul595525/anaconda3/lib/python3.7/site-packages (from dataprep) (2.0.2)\n",
      "Requirement already satisfied: pyyaml in /Users/atul595525/anaconda3/lib/python3.7/site-packages (from dask[array,dataframe,delayed]<2022.0,>=2021.11->dataprep) (5.3.1)\n",
      "Requirement already satisfied: fsspec>=0.6.0 in /Users/atul595525/anaconda3/lib/python3.7/site-packages (from dask[array,dataframe,delayed]<2022.0,>=2021.11->dataprep) (0.7.4)\n",
      "Requirement already satisfied: toolz>=0.8.2 in /Users/atul595525/anaconda3/lib/python3.7/site-packages (from dask[array,dataframe,delayed]<2022.0,>=2021.11->dataprep) (0.10.0)\n",
      "Requirement already satisfied: packaging>=20.0 in /Users/atul595525/anaconda3/lib/python3.7/site-packages (from dask[array,dataframe,delayed]<2022.0,>=2021.11->dataprep) (20.3)\n",
      "Requirement already satisfied: cloudpickle>=1.1.1 in /Users/atul595525/anaconda3/lib/python3.7/site-packages (from dask[array,dataframe,delayed]<2022.0,>=2021.11->dataprep) (1.4.1)\n",
      "Requirement already satisfied: partd>=0.3.10 in /Users/atul595525/anaconda3/lib/python3.7/site-packages (from dask[array,dataframe,delayed]<2022.0,>=2021.11->dataprep) (1.1.0)\n",
      "Requirement already satisfied: ply in /Users/atul595525/anaconda3/lib/python3.7/site-packages (from jsonpath-ng<2.0,>=1.5->dataprep) (3.11)\n",
      "Requirement already satisfied: decorator in /Users/atul595525/anaconda3/lib/python3.7/site-packages (from jsonpath-ng<2.0,>=1.5->dataprep) (4.4.2)\n",
      "Requirement already satisfied: six in /Users/atul595525/anaconda3/lib/python3.7/site-packages (from jsonpath-ng<2.0,>=1.5->dataprep) (1.14.0)\n",
      "Collecting yarl<2.0,>=1.0\n",
      "  Downloading yarl-1.7.2-cp37-cp37m-macosx_10_9_x86_64.whl (120 kB)\n",
      "\u001b[K     |████████████████████████████████| 120 kB 22.4 MB/s eta 0:00:01\n",
      "\u001b[?25hCollecting frozenlist>=1.1.1\n",
      "  Downloading frozenlist-1.3.0-cp37-cp37m-macosx_10_9_x86_64.whl (35 kB)\n",
      "Collecting asynctest==0.13.0; python_version < \"3.8\"\n",
      "  Downloading asynctest-0.13.0-py3-none-any.whl (26 kB)\n",
      "Requirement already satisfied: typing-extensions>=3.7.4; python_version < \"3.8\" in /Users/atul595525/anaconda3/lib/python3.7/site-packages (from aiohttp<4.0,>=3.6->dataprep) (3.7.4.1)\n",
      "Collecting multidict<7.0,>=4.5\n",
      "  Downloading multidict-6.0.2-cp37-cp37m-macosx_10_9_x86_64.whl (28 kB)\n",
      "Requirement already satisfied: attrs>=17.3.0 in /Users/atul595525/anaconda3/lib/python3.7/site-packages (from aiohttp<4.0,>=3.6->dataprep) (19.3.0)\n",
      "Collecting async-timeout<5.0,>=4.0.0a3\n",
      "  Downloading async_timeout-4.0.2-py3-none-any.whl (5.8 kB)\n",
      "Collecting aiosignal>=1.1.2\n",
      "  Downloading aiosignal-1.2.0-py3-none-any.whl (8.2 kB)\n",
      "Collecting charset-normalizer<3.0,>=2.0\n",
      "  Downloading charset_normalizer-2.0.12-py3-none-any.whl (39 kB)\n",
      "Collecting MarkupSafe>=2.0\n",
      "  Downloading MarkupSafe-2.1.0-cp37-cp37m-macosx_10_9_x86_64.whl (13 kB)\n",
      "Requirement already satisfied: click in /Users/atul595525/anaconda3/lib/python3.7/site-packages (from nltk<4.0.0,>=3.6.7->dataprep) (7.1.2)\n",
      "Requirement already satisfied: joblib in /Users/atul595525/anaconda3/lib/python3.7/site-packages (from nltk<4.0.0,>=3.6.7->dataprep) (0.15.1)\n",
      "Requirement already satisfied: pytz>=2017.3 in /Users/atul595525/anaconda3/lib/python3.7/site-packages (from pandas<2.0,>=1.1->dataprep) (2020.1)\n",
      "Requirement already satisfied: python-dateutil>=2.7.3 in /Users/atul595525/anaconda3/lib/python3.7/site-packages (from pandas<2.0,>=1.1->dataprep) (2.8.1)\n",
      "Requirement already satisfied: widgetsnbextension~=3.5.0 in /Users/atul595525/anaconda3/lib/python3.7/site-packages (from ipywidgets<8.0,>=7.5->dataprep) (3.5.1)\n",
      "Requirement already satisfied: ipython>=4.0.0; python_version >= \"3.3\" in /Users/atul595525/anaconda3/lib/python3.7/site-packages (from ipywidgets<8.0,>=7.5->dataprep) (7.13.0)\n",
      "Requirement already satisfied: nbformat>=4.2.0 in /Users/atul595525/anaconda3/lib/python3.7/site-packages (from ipywidgets<8.0,>=7.5->dataprep) (5.0.6)\n",
      "Requirement already satisfied: ipykernel>=4.5.1 in /Users/atul595525/anaconda3/lib/python3.7/site-packages (from ipywidgets<8.0,>=7.5->dataprep) (5.1.4)\n",
      "Requirement already satisfied: traitlets>=4.3.1 in /Users/atul595525/anaconda3/lib/python3.7/site-packages (from ipywidgets<8.0,>=7.5->dataprep) (4.3.3)\n",
      "Collecting itsdangerous>=2.0\n",
      "  Downloading itsdangerous-2.1.0-py3-none-any.whl (15 kB)\n",
      "Collecting Werkzeug>=2.0\n",
      "  Downloading Werkzeug-2.0.3-py3-none-any.whl (289 kB)\n",
      "\u001b[K     |████████████████████████████████| 289 kB 12.7 MB/s eta 0:00:01\n",
      "\u001b[?25hCollecting executing\n",
      "  Downloading executing-0.8.2-py2.py3-none-any.whl (16 kB)\n",
      "Collecting pure_eval<1.0.0\n",
      "  Downloading pure_eval-0.2.2-py3-none-any.whl (11 kB)\n",
      "Collecting asttokens<3.0.0,>=2.0.0\n",
      "  Downloading asttokens-2.0.5-py2.py3-none-any.whl (20 kB)\n",
      "Collecting rapidfuzz<1.9,>=1.8.2\n",
      "  Downloading rapidfuzz-1.8.3-cp37-cp37m-macosx_10_9_x86_64.whl (662 kB)\n"
     ]
    },
    {
     "name": "stdout",
     "output_type": "stream",
     "text": [
      "\u001b[K     |████████████████████████████████| 662 kB 21.8 MB/s eta 0:00:01\n",
      "\u001b[?25hRequirement already satisfied: pillow in /Users/atul595525/anaconda3/lib/python3.7/site-packages (from wordcloud<2.0,>=1.8->dataprep) (7.1.2)\n",
      "Requirement already satisfied: matplotlib in /Users/atul595525/anaconda3/lib/python3.7/site-packages (from wordcloud<2.0,>=1.8->dataprep) (3.3.2)\n",
      "Requirement already satisfied: tornado>=5 in /Users/atul595525/anaconda3/lib/python3.7/site-packages (from bokeh<3,>=2->dataprep) (6.0.4)\n",
      "Requirement already satisfied: pyparsing>=2.0.2 in /Users/atul595525/anaconda3/lib/python3.7/site-packages (from packaging>=20.0->dask[array,dataframe,delayed]<2022.0,>=2021.11->dataprep) (2.4.7)\n",
      "Requirement already satisfied: locket in /Users/atul595525/anaconda3/lib/python3.7/site-packages (from partd>=0.3.10->dask[array,dataframe,delayed]<2022.0,>=2021.11->dataprep) (0.2.0)\n",
      "Requirement already satisfied: idna>=2.0 in /Users/atul595525/anaconda3/lib/python3.7/site-packages (from yarl<2.0,>=1.0->aiohttp<4.0,>=3.6->dataprep) (2.9)\n",
      "Requirement already satisfied: notebook>=4.4.1 in /Users/atul595525/anaconda3/lib/python3.7/site-packages (from widgetsnbextension~=3.5.0->ipywidgets<8.0,>=7.5->dataprep) (6.0.3)\n",
      "Requirement already satisfied: pexpect; sys_platform != \"win32\" in /Users/atul595525/anaconda3/lib/python3.7/site-packages (from ipython>=4.0.0; python_version >= \"3.3\"->ipywidgets<8.0,>=7.5->dataprep) (4.8.0)\n",
      "Requirement already satisfied: jedi>=0.10 in /Users/atul595525/anaconda3/lib/python3.7/site-packages (from ipython>=4.0.0; python_version >= \"3.3\"->ipywidgets<8.0,>=7.5->dataprep) (0.15.2)\n",
      "Requirement already satisfied: prompt-toolkit!=3.0.0,!=3.0.1,<3.1.0,>=2.0.0 in /Users/atul595525/anaconda3/lib/python3.7/site-packages (from ipython>=4.0.0; python_version >= \"3.3\"->ipywidgets<8.0,>=7.5->dataprep) (3.0.4)\n",
      "Requirement already satisfied: backcall in /Users/atul595525/anaconda3/lib/python3.7/site-packages (from ipython>=4.0.0; python_version >= \"3.3\"->ipywidgets<8.0,>=7.5->dataprep) (0.1.0)\n",
      "Requirement already satisfied: appnope; sys_platform == \"darwin\" in /Users/atul595525/anaconda3/lib/python3.7/site-packages (from ipython>=4.0.0; python_version >= \"3.3\"->ipywidgets<8.0,>=7.5->dataprep) (0.1.0)\n",
      "Requirement already satisfied: pygments in /Users/atul595525/anaconda3/lib/python3.7/site-packages (from ipython>=4.0.0; python_version >= \"3.3\"->ipywidgets<8.0,>=7.5->dataprep) (2.6.1)\n",
      "Requirement already satisfied: setuptools>=18.5 in /Users/atul595525/anaconda3/lib/python3.7/site-packages (from ipython>=4.0.0; python_version >= \"3.3\"->ipywidgets<8.0,>=7.5->dataprep) (46.4.0.post20200518)\n",
      "Requirement already satisfied: pickleshare in /Users/atul595525/anaconda3/lib/python3.7/site-packages (from ipython>=4.0.0; python_version >= \"3.3\"->ipywidgets<8.0,>=7.5->dataprep) (0.7.5)\n",
      "Requirement already satisfied: jupyter-core in /Users/atul595525/anaconda3/lib/python3.7/site-packages (from nbformat>=4.2.0->ipywidgets<8.0,>=7.5->dataprep) (4.6.3)\n",
      "Requirement already satisfied: ipython-genutils in /Users/atul595525/anaconda3/lib/python3.7/site-packages (from nbformat>=4.2.0->ipywidgets<8.0,>=7.5->dataprep) (0.2.0)\n",
      "Requirement already satisfied: jsonschema!=2.5.0,>=2.4 in /Users/atul595525/anaconda3/lib/python3.7/site-packages (from nbformat>=4.2.0->ipywidgets<8.0,>=7.5->dataprep) (3.2.0)\n",
      "Requirement already satisfied: jupyter-client in /Users/atul595525/anaconda3/lib/python3.7/site-packages (from ipykernel>=4.5.1->ipywidgets<8.0,>=7.5->dataprep) (6.1.3)\n",
      "Requirement already satisfied: certifi>=2020.06.20 in /Users/atul595525/anaconda3/lib/python3.7/site-packages (from matplotlib->wordcloud<2.0,>=1.8->dataprep) (2020.6.20)\n",
      "Requirement already satisfied: cycler>=0.10 in /Users/atul595525/anaconda3/lib/python3.7/site-packages (from matplotlib->wordcloud<2.0,>=1.8->dataprep) (0.10.0)\n",
      "Requirement already satisfied: kiwisolver>=1.0.1 in /Users/atul595525/anaconda3/lib/python3.7/site-packages (from matplotlib->wordcloud<2.0,>=1.8->dataprep) (1.2.0)\n",
      "Requirement already satisfied: terminado>=0.8.1 in /Users/atul595525/anaconda3/lib/python3.7/site-packages (from notebook>=4.4.1->widgetsnbextension~=3.5.0->ipywidgets<8.0,>=7.5->dataprep) (0.8.3)\n",
      "Requirement already satisfied: pyzmq>=17 in /Users/atul595525/anaconda3/lib/python3.7/site-packages (from notebook>=4.4.1->widgetsnbextension~=3.5.0->ipywidgets<8.0,>=7.5->dataprep) (18.1.1)\n",
      "Requirement already satisfied: nbconvert in /Users/atul595525/anaconda3/lib/python3.7/site-packages (from notebook>=4.4.1->widgetsnbextension~=3.5.0->ipywidgets<8.0,>=7.5->dataprep) (5.6.1)\n",
      "Requirement already satisfied: prometheus-client in /Users/atul595525/anaconda3/lib/python3.7/site-packages (from notebook>=4.4.1->widgetsnbextension~=3.5.0->ipywidgets<8.0,>=7.5->dataprep) (0.7.1)\n",
      "Requirement already satisfied: Send2Trash in /Users/atul595525/anaconda3/lib/python3.7/site-packages (from notebook>=4.4.1->widgetsnbextension~=3.5.0->ipywidgets<8.0,>=7.5->dataprep) (1.5.0)\n",
      "Requirement already satisfied: ptyprocess>=0.5 in /Users/atul595525/anaconda3/lib/python3.7/site-packages (from pexpect; sys_platform != \"win32\"->ipython>=4.0.0; python_version >= \"3.3\"->ipywidgets<8.0,>=7.5->dataprep) (0.6.0)\n",
      "Requirement already satisfied: parso>=0.5.2 in /Users/atul595525/anaconda3/lib/python3.7/site-packages (from jedi>=0.10->ipython>=4.0.0; python_version >= \"3.3\"->ipywidgets<8.0,>=7.5->dataprep) (0.5.2)\n",
      "Requirement already satisfied: wcwidth in /Users/atul595525/anaconda3/lib/python3.7/site-packages (from prompt-toolkit!=3.0.0,!=3.0.1,<3.1.0,>=2.0.0->ipython>=4.0.0; python_version >= \"3.3\"->ipywidgets<8.0,>=7.5->dataprep) (0.1.9)\n",
      "Requirement already satisfied: importlib-metadata; python_version < \"3.8\" in /Users/atul595525/anaconda3/lib/python3.7/site-packages (from jsonschema!=2.5.0,>=2.4->nbformat>=4.2.0->ipywidgets<8.0,>=7.5->dataprep) (1.6.0)\n",
      "Requirement already satisfied: pyrsistent>=0.14.0 in /Users/atul595525/anaconda3/lib/python3.7/site-packages (from jsonschema!=2.5.0,>=2.4->nbformat>=4.2.0->ipywidgets<8.0,>=7.5->dataprep) (0.16.0)\n",
      "Requirement already satisfied: bleach in /Users/atul595525/anaconda3/lib/python3.7/site-packages (from nbconvert->notebook>=4.4.1->widgetsnbextension~=3.5.0->ipywidgets<8.0,>=7.5->dataprep) (3.1.4)\n",
      "Requirement already satisfied: pandocfilters>=1.4.1 in /Users/atul595525/anaconda3/lib/python3.7/site-packages (from nbconvert->notebook>=4.4.1->widgetsnbextension~=3.5.0->ipywidgets<8.0,>=7.5->dataprep) (1.4.2)\n",
      "Requirement already satisfied: entrypoints>=0.2.2 in /Users/atul595525/anaconda3/lib/python3.7/site-packages (from nbconvert->notebook>=4.4.1->widgetsnbextension~=3.5.0->ipywidgets<8.0,>=7.5->dataprep) (0.3)\n",
      "Requirement already satisfied: testpath in /Users/atul595525/anaconda3/lib/python3.7/site-packages (from nbconvert->notebook>=4.4.1->widgetsnbextension~=3.5.0->ipywidgets<8.0,>=7.5->dataprep) (0.4.4)\n",
      "Requirement already satisfied: mistune<2,>=0.8.1 in /Users/atul595525/anaconda3/lib/python3.7/site-packages (from nbconvert->notebook>=4.4.1->widgetsnbextension~=3.5.0->ipywidgets<8.0,>=7.5->dataprep) (0.8.4)\n",
      "Requirement already satisfied: defusedxml in /Users/atul595525/anaconda3/lib/python3.7/site-packages (from nbconvert->notebook>=4.4.1->widgetsnbextension~=3.5.0->ipywidgets<8.0,>=7.5->dataprep) (0.6.0)\n",
      "Requirement already satisfied: zipp>=0.5 in /Users/atul595525/anaconda3/lib/python3.7/site-packages (from importlib-metadata; python_version < \"3.8\"->jsonschema!=2.5.0,>=2.4->nbformat>=4.2.0->ipywidgets<8.0,>=7.5->dataprep) (3.1.0)\n",
      "Requirement already satisfied: webencodings in /Users/atul595525/anaconda3/lib/python3.7/site-packages (from bleach->nbconvert->notebook>=4.4.1->widgetsnbextension~=3.5.0->ipywidgets<8.0,>=7.5->dataprep) (0.5.1)\n",
      "Building wheels for collected packages: metaphone, wordcloud\n",
      "  Building wheel for metaphone (setup.py) ... \u001b[?25ldone\n",
      "\u001b[?25h  Created wheel for metaphone: filename=Metaphone-0.6-py3-none-any.whl size=13906 sha256=287a688d99b7d15fcac7eb05cbb87d63a7a90cbe995e7812348f7c26e0baaa65\n",
      "  Stored in directory: /Users/atul595525/Library/Caches/pip/wheels/1d/a8/cb/6f8902aa5457bd71344e00665c230e9c45255b3f57f2194a0f\n",
      "  Building wheel for wordcloud (setup.py) ... \u001b[?25ldone\n",
      "\u001b[?25h  Created wheel for wordcloud: filename=wordcloud-1.8.1-cp37-cp37m-macosx_10_7_x86_64.whl size=160331 sha256=f2510da40be0184b2ede620b7c172496090920bc9f427770231108b8d1329dfb\n",
      "  Stored in directory: /Users/atul595525/Library/Caches/pip/wheels/f8/f6/55/6bd394c32a844a621ca0fe5dbf563c8d71d71edaf095656991\n",
      "Successfully built metaphone wordcloud\n"
     ]
    },
    {
     "name": "stdout",
     "output_type": "stream",
     "text": [
      "\u001b[31mERROR: turicreate 5.8 has requirement numpy==1.16.4, but you'll have numpy 1.21.5 which is incompatible.\u001b[0m\n",
      "\u001b[31mERROR: tensorflow 2.2.0 has requirement scipy==1.4.1; python_version >= \"3\", but you'll have scipy 1.7.3 which is incompatible.\u001b[0m\n",
      "\u001b[31mERROR: jupyterlab 1.2.6 has requirement jupyterlab_server~=1.0.0, but you'll have jupyterlab-server 1.1.4 which is incompatible.\u001b[0m\n",
      "Installing collected packages: numpy, pandas, dask, python-stdnum, regex, jsonpath-ng, multidict, yarl, frozenlist, asynctest, async-timeout, aiosignal, charset-normalizer, aiohttp, MarkupSafe, jinja2, tqdm, nltk, metaphone, itsdangerous, Werkzeug, flask, executing, pure-eval, asttokens, varname, rapidfuzz, levenshtein, python-crfsuite, wordcloud, flask-cors, dataprep\n",
      "  Attempting uninstall: numpy\n",
      "    Found existing installation: numpy 1.16.4\n",
      "    Uninstalling numpy-1.16.4:\n",
      "      Successfully uninstalled numpy-1.16.4\n",
      "  Attempting uninstall: pandas\n",
      "    Found existing installation: pandas 1.0.3\n",
      "    Uninstalling pandas-1.0.3:\n",
      "      Successfully uninstalled pandas-1.0.3\n",
      "  Attempting uninstall: dask\n",
      "    Found existing installation: dask 2.17.2\n",
      "    Uninstalling dask-2.17.2:\n",
      "      Successfully uninstalled dask-2.17.2\n",
      "  Attempting uninstall: MarkupSafe\n",
      "    Found existing installation: MarkupSafe 1.1.1\n",
      "    Uninstalling MarkupSafe-1.1.1:\n",
      "      Successfully uninstalled MarkupSafe-1.1.1\n",
      "  Attempting uninstall: jinja2\n",
      "    Found existing installation: Jinja2 2.11.2\n",
      "    Uninstalling Jinja2-2.11.2:\n",
      "      Successfully uninstalled Jinja2-2.11.2\n",
      "  Attempting uninstall: tqdm\n",
      "    Found existing installation: tqdm 4.46.0\n",
      "    Uninstalling tqdm-4.46.0:\n",
      "      Successfully uninstalled tqdm-4.46.0\n",
      "  Attempting uninstall: nltk\n",
      "    Found existing installation: nltk 3.4.5\n",
      "    Uninstalling nltk-3.4.5:\n",
      "      Successfully uninstalled nltk-3.4.5\n",
      "  Attempting uninstall: itsdangerous\n",
      "    Found existing installation: itsdangerous 1.1.0\n",
      "    Uninstalling itsdangerous-1.1.0:\n",
      "      Successfully uninstalled itsdangerous-1.1.0\n",
      "  Attempting uninstall: Werkzeug\n",
      "    Found existing installation: Werkzeug 1.0.1\n",
      "    Uninstalling Werkzeug-1.0.1:\n",
      "      Successfully uninstalled Werkzeug-1.0.1\n",
      "  Attempting uninstall: flask\n",
      "    Found existing installation: Flask 1.1.2\n",
      "    Uninstalling Flask-1.1.2:\n",
      "      Successfully uninstalled Flask-1.1.2\n",
      "Successfully installed MarkupSafe-2.1.0 Werkzeug-2.0.3 aiohttp-3.8.1 aiosignal-1.2.0 asttokens-2.0.5 async-timeout-4.0.2 asynctest-0.13.0 charset-normalizer-2.0.12 dask-2021.12.0 dataprep-0.4.2 executing-0.8.2 flask-2.0.3 flask-cors-3.0.10 frozenlist-1.3.0 itsdangerous-2.1.0 jinja2-3.0.3 jsonpath-ng-1.5.3 levenshtein-0.16.0 metaphone-0.6 multidict-6.0.2 nltk-3.7 numpy-1.21.5 pandas-1.3.5 pure-eval-0.2.2 python-crfsuite-0.9.7 python-stdnum-1.17 rapidfuzz-1.8.3 regex-2021.11.10 tqdm-4.62.3 varname-0.8.1 wordcloud-1.8.1 yarl-1.7.2\n"
     ]
    }
   ],
   "source": [
    "!pip install dataprep"
   ]
  },
  {
   "cell_type": "code",
   "execution_count": 22,
   "metadata": {},
   "outputs": [
    {
     "name": "stdout",
     "output_type": "stream",
     "text": [
      "Collecting dask[dataframe]\n",
      "  Downloading dask-2022.2.0-py3-none-any.whl (1.1 MB)\n",
      "\u001b[K     |████████████████████████████████| 1.1 MB 2.1 MB/s eta 0:00:01\n",
      "\u001b[?25hRequirement already satisfied, skipping upgrade: cloudpickle>=1.1.1 in /Users/atul595525/anaconda3/lib/python3.7/site-packages (from dask[dataframe]) (1.4.1)\n",
      "Requirement already satisfied, skipping upgrade: toolz>=0.8.2 in /Users/atul595525/anaconda3/lib/python3.7/site-packages (from dask[dataframe]) (0.10.0)\n",
      "Requirement already satisfied, skipping upgrade: packaging>=20.0 in /Users/atul595525/anaconda3/lib/python3.7/site-packages (from dask[dataframe]) (20.3)\n",
      "Requirement already satisfied, skipping upgrade: partd>=0.3.10 in /Users/atul595525/anaconda3/lib/python3.7/site-packages (from dask[dataframe]) (1.1.0)\n",
      "Requirement already satisfied, skipping upgrade: pyyaml>=5.3.1 in /Users/atul595525/anaconda3/lib/python3.7/site-packages (from dask[dataframe]) (5.3.1)\n",
      "Requirement already satisfied, skipping upgrade: fsspec>=0.6.0 in /Users/atul595525/anaconda3/lib/python3.7/site-packages (from dask[dataframe]) (0.7.4)\n",
      "Requirement already satisfied, skipping upgrade: numpy>=1.18; extra == \"dataframe\" in /Users/atul595525/anaconda3/lib/python3.7/site-packages (from dask[dataframe]) (1.21.5)\n",
      "Requirement already satisfied, skipping upgrade: pandas>=1.0; extra == \"dataframe\" in /Users/atul595525/anaconda3/lib/python3.7/site-packages (from dask[dataframe]) (1.3.5)\n",
      "Requirement already satisfied, skipping upgrade: six in /Users/atul595525/anaconda3/lib/python3.7/site-packages (from packaging>=20.0->dask[dataframe]) (1.14.0)\n",
      "Requirement already satisfied, skipping upgrade: pyparsing>=2.0.2 in /Users/atul595525/anaconda3/lib/python3.7/site-packages (from packaging>=20.0->dask[dataframe]) (2.4.7)\n",
      "Requirement already satisfied, skipping upgrade: locket in /Users/atul595525/anaconda3/lib/python3.7/site-packages (from partd>=0.3.10->dask[dataframe]) (0.2.0)\n",
      "Requirement already satisfied, skipping upgrade: python-dateutil>=2.7.3 in /Users/atul595525/anaconda3/lib/python3.7/site-packages (from pandas>=1.0; extra == \"dataframe\"->dask[dataframe]) (2.8.1)\n",
      "Requirement already satisfied, skipping upgrade: pytz>=2017.3 in /Users/atul595525/anaconda3/lib/python3.7/site-packages (from pandas>=1.0; extra == \"dataframe\"->dask[dataframe]) (2020.1)\n",
      "\u001b[31mERROR: dataprep 0.4.2 has requirement dask[array,dataframe,delayed]<2022.0,>=2021.11, but you'll have dask 2022.2.0 which is incompatible.\u001b[0m\n",
      "Installing collected packages: dask\n",
      "  Attempting uninstall: dask\n",
      "    Found existing installation: dask 2021.12.0\n",
      "    Uninstalling dask-2021.12.0:\n",
      "      Successfully uninstalled dask-2021.12.0\n",
      "Successfully installed dask-2022.2.0\n",
      "Note: you may need to restart the kernel to use updated packages.\n"
     ]
    }
   ],
   "source": [
    "pip install \"dask[dataframe]\" --upgrade"
   ]
  },
  {
   "cell_type": "code",
   "execution_count": 23,
   "metadata": {},
   "outputs": [
    {
     "ename": "ImportError",
     "evalue": "Dask dataframe requirements are not installed.\n\nPlease either conda or pip install as follows:\n\n  conda install dask                     # either conda install\n  python -m pip install \"dask[dataframe]\" --upgrade  # or python -m pip install",
     "output_type": "error",
     "traceback": [
      "\u001b[0;31m---------------------------------------------------------------------------\u001b[0m",
      "\u001b[0;31mImportError\u001b[0m                               Traceback (most recent call last)",
      "\u001b[0;32m~/anaconda3/lib/python3.7/site-packages/dask/dataframe/__init__.py\u001b[0m in \u001b[0;36m<module>\u001b[0;34m\u001b[0m\n\u001b[1;32m      2\u001b[0m     \u001b[0;32mfrom\u001b[0m \u001b[0;34m.\u001b[0m\u001b[0;34m.\u001b[0m\u001b[0mbase\u001b[0m \u001b[0;32mimport\u001b[0m \u001b[0mcompute\u001b[0m\u001b[0;34m\u001b[0m\u001b[0;34m\u001b[0m\u001b[0m\n\u001b[0;32m----> 3\u001b[0;31m     \u001b[0;32mfrom\u001b[0m \u001b[0;34m.\u001b[0m \u001b[0;32mimport\u001b[0m \u001b[0mbackends\u001b[0m\u001b[0;34m,\u001b[0m \u001b[0mdispatch\u001b[0m\u001b[0;34m,\u001b[0m \u001b[0mrolling\u001b[0m\u001b[0;34m\u001b[0m\u001b[0;34m\u001b[0m\u001b[0m\n\u001b[0m\u001b[1;32m      4\u001b[0m     from .core import (\n",
      "\u001b[0;32m~/anaconda3/lib/python3.7/site-packages/dask/dataframe/backends.py\u001b[0m in \u001b[0;36m<module>\u001b[0;34m\u001b[0m\n\u001b[1;32m     19\u001b[0m \u001b[0;32mfrom\u001b[0m \u001b[0mdask\u001b[0m\u001b[0;34m.\u001b[0m\u001b[0marray\u001b[0m\u001b[0;34m.\u001b[0m\u001b[0mpercentile\u001b[0m \u001b[0;32mimport\u001b[0m \u001b[0m_percentile\u001b[0m\u001b[0;34m\u001b[0m\u001b[0;34m\u001b[0m\u001b[0m\n\u001b[0;32m---> 20\u001b[0;31m \u001b[0;32mfrom\u001b[0m \u001b[0mdask\u001b[0m\u001b[0;34m.\u001b[0m\u001b[0msizeof\u001b[0m \u001b[0;32mimport\u001b[0m \u001b[0mSimpleSizeof\u001b[0m\u001b[0;34m,\u001b[0m \u001b[0msizeof\u001b[0m\u001b[0;34m\u001b[0m\u001b[0;34m\u001b[0m\u001b[0m\n\u001b[0m\u001b[1;32m     21\u001b[0m \u001b[0;34m\u001b[0m\u001b[0m\n",
      "\u001b[0;31mImportError\u001b[0m: cannot import name 'SimpleSizeof' from 'dask.sizeof' (/Users/atul595525/anaconda3/lib/python3.7/site-packages/dask/sizeof.py)",
      "\nThe above exception was the direct cause of the following exception:\n",
      "\u001b[0;31mImportError\u001b[0m                               Traceback (most recent call last)",
      "\u001b[0;32m<ipython-input-23-f2277a311536>\u001b[0m in \u001b[0;36m<module>\u001b[0;34m\u001b[0m\n\u001b[0;32m----> 1\u001b[0;31m \u001b[0;32mfrom\u001b[0m \u001b[0mdataprep\u001b[0m\u001b[0;34m.\u001b[0m\u001b[0meda\u001b[0m \u001b[0;32mimport\u001b[0m \u001b[0mcreate_report\u001b[0m\u001b[0;34m\u001b[0m\u001b[0;34m\u001b[0m\u001b[0m\n\u001b[0m\u001b[1;32m      2\u001b[0m \u001b[0mcreate_report\u001b[0m\u001b[0;34m(\u001b[0m\u001b[0mdf\u001b[0m\u001b[0;34m)\u001b[0m\u001b[0;34m\u001b[0m\u001b[0;34m\u001b[0m\u001b[0m\n",
      "\u001b[0;32m~/anaconda3/lib/python3.7/site-packages/dataprep/eda/__init__.py\u001b[0m in \u001b[0;36m<module>\u001b[0;34m\u001b[0m\n\u001b[1;32m      6\u001b[0m \u001b[0;34m\u001b[0m\u001b[0m\n\u001b[1;32m      7\u001b[0m \u001b[0;32mfrom\u001b[0m \u001b[0;34m.\u001b[0m\u001b[0;34m.\u001b[0m\u001b[0mutils\u001b[0m \u001b[0;32mimport\u001b[0m \u001b[0mis_notebook\u001b[0m\u001b[0;34m\u001b[0m\u001b[0;34m\u001b[0m\u001b[0m\n\u001b[0;32m----> 8\u001b[0;31m \u001b[0;32mfrom\u001b[0m \u001b[0;34m.\u001b[0m\u001b[0mcorrelation\u001b[0m \u001b[0;32mimport\u001b[0m \u001b[0mcompute_correlation\u001b[0m\u001b[0;34m,\u001b[0m \u001b[0mplot_correlation\u001b[0m\u001b[0;34m,\u001b[0m \u001b[0mrender_correlation\u001b[0m\u001b[0;34m\u001b[0m\u001b[0;34m\u001b[0m\u001b[0m\n\u001b[0m\u001b[1;32m      9\u001b[0m \u001b[0;32mfrom\u001b[0m \u001b[0;34m.\u001b[0m\u001b[0mcreate_report\u001b[0m \u001b[0;32mimport\u001b[0m \u001b[0mcreate_report\u001b[0m\u001b[0;34m\u001b[0m\u001b[0;34m\u001b[0m\u001b[0m\n\u001b[1;32m     10\u001b[0m \u001b[0;32mfrom\u001b[0m \u001b[0;34m.\u001b[0m\u001b[0mcreate_diff_report\u001b[0m \u001b[0;32mimport\u001b[0m \u001b[0mcreate_diff_report\u001b[0m\u001b[0;34m\u001b[0m\u001b[0;34m\u001b[0m\u001b[0m\n",
      "\u001b[0;32m~/anaconda3/lib/python3.7/site-packages/dataprep/eda/correlation/__init__.py\u001b[0m in \u001b[0;36m<module>\u001b[0;34m\u001b[0m\n\u001b[1;32m      5\u001b[0m \u001b[0;32mfrom\u001b[0m \u001b[0mtyping\u001b[0m \u001b[0;32mimport\u001b[0m \u001b[0mAny\u001b[0m\u001b[0;34m,\u001b[0m \u001b[0mDict\u001b[0m\u001b[0;34m,\u001b[0m \u001b[0mList\u001b[0m\u001b[0;34m,\u001b[0m \u001b[0mOptional\u001b[0m\u001b[0;34m,\u001b[0m \u001b[0mTuple\u001b[0m\u001b[0;34m,\u001b[0m \u001b[0mUnion\u001b[0m\u001b[0;34m\u001b[0m\u001b[0;34m\u001b[0m\u001b[0m\n\u001b[1;32m      6\u001b[0m \u001b[0;34m\u001b[0m\u001b[0m\n\u001b[0;32m----> 7\u001b[0;31m \u001b[0;32mimport\u001b[0m \u001b[0mdask\u001b[0m\u001b[0;34m.\u001b[0m\u001b[0mdataframe\u001b[0m \u001b[0;32mas\u001b[0m \u001b[0mdd\u001b[0m\u001b[0;34m\u001b[0m\u001b[0;34m\u001b[0m\u001b[0m\n\u001b[0m\u001b[1;32m      8\u001b[0m \u001b[0;32mimport\u001b[0m \u001b[0mpandas\u001b[0m \u001b[0;32mas\u001b[0m \u001b[0mpd\u001b[0m\u001b[0;34m\u001b[0m\u001b[0;34m\u001b[0m\u001b[0m\n\u001b[1;32m      9\u001b[0m \u001b[0;34m\u001b[0m\u001b[0m\n",
      "\u001b[0;32m~/anaconda3/lib/python3.7/site-packages/dask/dataframe/__init__.py\u001b[0m in \u001b[0;36m<module>\u001b[0;34m\u001b[0m\n\u001b[1;32m     60\u001b[0m         \u001b[0;34m'  python -m pip install \"dask[dataframe]\" --upgrade  # or python -m pip install'\u001b[0m\u001b[0;34m\u001b[0m\u001b[0;34m\u001b[0m\u001b[0m\n\u001b[1;32m     61\u001b[0m     )\n\u001b[0;32m---> 62\u001b[0;31m     \u001b[0;32mraise\u001b[0m \u001b[0mImportError\u001b[0m\u001b[0;34m(\u001b[0m\u001b[0mmsg\u001b[0m\u001b[0;34m)\u001b[0m \u001b[0;32mfrom\u001b[0m \u001b[0me\u001b[0m\u001b[0;34m\u001b[0m\u001b[0;34m\u001b[0m\u001b[0m\n\u001b[0m",
      "\u001b[0;31mImportError\u001b[0m: Dask dataframe requirements are not installed.\n\nPlease either conda or pip install as follows:\n\n  conda install dask                     # either conda install\n  python -m pip install \"dask[dataframe]\" --upgrade  # or python -m pip install"
     ]
    }
   ],
   "source": [
    "from dataprep.eda import create_report\n",
    "create_report(df)\n"
   ]
  },
  {
   "cell_type": "code",
   "execution_count": 24,
   "metadata": {},
   "outputs": [
    {
     "name": "stdout",
     "output_type": "stream",
     "text": [
      "Collecting lux\n",
      "  Downloading lux-0.8.2-py3-none-any.whl (354 kB)\n",
      "\u001b[K     |████████████████████████████████| 354 kB 2.3 MB/s eta 0:00:01\n",
      "\u001b[?25hRequirement already satisfied: jinja2 in /Users/atul595525/anaconda3/lib/python3.7/site-packages (from lux) (3.0.3)\n",
      "Requirement already satisfied: python-dateutil in /Users/atul595525/anaconda3/lib/python3.7/site-packages (from lux) (2.8.1)\n",
      "Requirement already satisfied: greenlet in /Users/atul595525/anaconda3/lib/python3.7/site-packages (from lux) (0.4.15)\n",
      "Collecting pyjwt\n",
      "  Downloading PyJWT-2.3.0-py3-none-any.whl (16 kB)\n",
      "Collecting pulsar-odm\n",
      "  Downloading pulsar-odm-0.7.0.tar.gz (40 kB)\n",
      "\u001b[K     |████████████████████████████████| 40 kB 4.1 MB/s eta 0:00:011\n",
      "\u001b[?25hRequirement already satisfied: pytz in /Users/atul595525/anaconda3/lib/python3.7/site-packages (from lux) (2020.1)\n",
      "Requirement already satisfied: MarkupSafe>=2.0 in /Users/atul595525/anaconda3/lib/python3.7/site-packages (from jinja2->lux) (2.1.0)\n",
      "Requirement already satisfied: six>=1.5 in /Users/atul595525/anaconda3/lib/python3.7/site-packages (from python-dateutil->lux) (1.14.0)\n",
      "Requirement already satisfied: sqlalchemy in /Users/atul595525/anaconda3/lib/python3.7/site-packages (from pulsar-odm->lux) (1.3.17)\n",
      "Collecting psycopg2\n",
      "  Downloading psycopg2-2.9.3.tar.gz (380 kB)\n",
      "\u001b[K     |████████████████████████████████| 380 kB 2.5 MB/s eta 0:00:01\n",
      "\u001b[31m    ERROR: Command errored out with exit status 1:\n",
      "     command: /Users/atul595525/anaconda3/bin/python -c 'import sys, setuptools, tokenize; sys.argv[0] = '\"'\"'/private/var/folders/5n/plkx587s0kj_92g0r6z1vvq40000gn/T/pip-install-cuslz97n/psycopg2/setup.py'\"'\"'; __file__='\"'\"'/private/var/folders/5n/plkx587s0kj_92g0r6z1vvq40000gn/T/pip-install-cuslz97n/psycopg2/setup.py'\"'\"';f=getattr(tokenize, '\"'\"'open'\"'\"', open)(__file__);code=f.read().replace('\"'\"'\\r\\n'\"'\"', '\"'\"'\\n'\"'\"');f.close();exec(compile(code, __file__, '\"'\"'exec'\"'\"'))' egg_info --egg-base /private/var/folders/5n/plkx587s0kj_92g0r6z1vvq40000gn/T/pip-install-cuslz97n/psycopg2/pip-egg-info\n",
      "         cwd: /private/var/folders/5n/plkx587s0kj_92g0r6z1vvq40000gn/T/pip-install-cuslz97n/psycopg2/\n",
      "    Complete output (23 lines):\n",
      "    running egg_info\n",
      "    creating /private/var/folders/5n/plkx587s0kj_92g0r6z1vvq40000gn/T/pip-install-cuslz97n/psycopg2/pip-egg-info/psycopg2.egg-info\n",
      "    writing /private/var/folders/5n/plkx587s0kj_92g0r6z1vvq40000gn/T/pip-install-cuslz97n/psycopg2/pip-egg-info/psycopg2.egg-info/PKG-INFO\n",
      "    writing dependency_links to /private/var/folders/5n/plkx587s0kj_92g0r6z1vvq40000gn/T/pip-install-cuslz97n/psycopg2/pip-egg-info/psycopg2.egg-info/dependency_links.txt\n",
      "    writing top-level names to /private/var/folders/5n/plkx587s0kj_92g0r6z1vvq40000gn/T/pip-install-cuslz97n/psycopg2/pip-egg-info/psycopg2.egg-info/top_level.txt\n",
      "    writing manifest file '/private/var/folders/5n/plkx587s0kj_92g0r6z1vvq40000gn/T/pip-install-cuslz97n/psycopg2/pip-egg-info/psycopg2.egg-info/SOURCES.txt'\n",
      "    \n",
      "    Error: pg_config executable not found.\n",
      "    \n",
      "    pg_config is required to build psycopg2 from source.  Please add the directory\n",
      "    containing pg_config to the $PATH or specify the full executable path with the\n",
      "    option:\n",
      "    \n",
      "        python setup.py build_ext --pg-config /path/to/pg_config build ...\n",
      "    \n",
      "    or with the pg_config option in 'setup.cfg'.\n",
      "    \n",
      "    If you prefer to avoid building psycopg2 from source, please install the PyPI\n",
      "    'psycopg2-binary' package instead.\n",
      "    \n",
      "    For further information please check the 'doc/src/install.rst' file (also at\n",
      "    <https://www.psycopg.org/docs/install.html>).\n",
      "    \n",
      "    ----------------------------------------\u001b[0m\n",
      "\u001b[31mERROR: Command errored out with exit status 1: python setup.py egg_info Check the logs for full command output.\u001b[0m\n",
      "\u001b[?25h"
     ]
    }
   ],
   "source": [
    "!pip install lux"
   ]
  },
  {
   "cell_type": "code",
   "execution_count": 41,
   "metadata": {},
   "outputs": [],
   "source": [
    "def reverseArray(a):\n",
    "    # Write your code here\n",
    "    rev = []\n",
    "    i = len(a)\n",
    "    print(i)\n",
    "    while i < 0:\n",
    "        print(a[i])\n",
    "        \n",
    "\n"
   ]
  },
  {
   "cell_type": "code",
   "execution_count": 42,
   "metadata": {},
   "outputs": [],
   "source": [
    "reverseArray([1,2,3])"
   ]
  },
  {
   "cell_type": "code",
   "execution_count": 28,
   "metadata": {},
   "outputs": [
    {
     "data": {
      "text/plain": [
       "3"
      ]
     },
     "execution_count": 28,
     "metadata": {},
     "output_type": "execute_result"
    }
   ],
   "source": [
    "len([1,2,3])"
   ]
  },
  {
   "cell_type": "code",
   "execution_count": 61,
   "metadata": {},
   "outputs": [
    {
     "name": "stdout",
     "output_type": "stream",
     "text": [
      "3\n",
      "2\n",
      "1\n"
     ]
    }
   ],
   "source": [
    "a=[1,2,3]\n",
    "i = 1\n",
    "while i <= len(a):\n",
    "    print(a[-i])\n",
    "    i = i + 1"
   ]
  },
  {
   "cell_type": "code",
   "execution_count": 45,
   "metadata": {},
   "outputs": [
    {
     "name": "stdout",
     "output_type": "stream",
     "text": [
      "1\n",
      "2\n",
      "3\n",
      "4\n",
      "5\n"
     ]
    }
   ],
   "source": [
    "i = 1\n",
    "while i < 6:\n",
    "  print(i)\n",
    "  i += 1"
   ]
  },
  {
   "cell_type": "code",
   "execution_count": 59,
   "metadata": {},
   "outputs": [
    {
     "data": {
      "text/plain": [
       "3"
      ]
     },
     "execution_count": 59,
     "metadata": {},
     "output_type": "execute_result"
    }
   ],
   "source": [
    "a=[1,2,3]\n",
    "\n",
    "a[-1]"
   ]
  },
  {
   "cell_type": "code",
   "execution_count": 60,
   "metadata": {},
   "outputs": [
    {
     "data": {
      "text/plain": [
       "2"
      ]
     },
     "execution_count": 60,
     "metadata": {},
     "output_type": "execute_result"
    }
   ],
   "source": [
    "a[-2]"
   ]
  },
  {
   "cell_type": "code",
   "execution_count": 64,
   "metadata": {},
   "outputs": [],
   "source": [
    "def reverseArray(a):\n",
    "    # Write your code here\n",
    "    rev = []\n",
    "    i = 1\n",
    "    while i <= len(a):\n",
    "        #print(a[-i])\n",
    "        rev.append(a[-i])\n",
    "        i = i + 1\n",
    "    return rev"
   ]
  },
  {
   "cell_type": "code",
   "execution_count": 65,
   "metadata": {},
   "outputs": [
    {
     "data": {
      "text/plain": [
       "[3, 2, 1]"
      ]
     },
     "execution_count": 65,
     "metadata": {},
     "output_type": "execute_result"
    }
   ],
   "source": [
    "reverseArray([1,2,3])"
   ]
  },
  {
   "cell_type": "code",
   "execution_count": 66,
   "metadata": {},
   "outputs": [
    {
     "data": {
      "text/plain": [
       "[3, 2, 1]"
      ]
     },
     "execution_count": 66,
     "metadata": {},
     "output_type": "execute_result"
    }
   ],
   "source": [
    "reverseArray([1,2,3])"
   ]
  },
  {
   "cell_type": "code",
   "execution_count": null,
   "metadata": {},
   "outputs": [],
   "source": []
  }
 ],
 "metadata": {
  "kernelspec": {
   "display_name": "Python 3",
   "language": "python",
   "name": "python3"
  },
  "language_info": {
   "codemirror_mode": {
    "name": "ipython",
    "version": 3
   },
   "file_extension": ".py",
   "mimetype": "text/x-python",
   "name": "python",
   "nbconvert_exporter": "python",
   "pygments_lexer": "ipython3",
   "version": "3.7.3"
  }
 },
 "nbformat": 4,
 "nbformat_minor": 4
}
